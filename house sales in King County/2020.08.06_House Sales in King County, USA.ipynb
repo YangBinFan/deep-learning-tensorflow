{
 "cells": [
  {
   "cell_type": "code",
   "execution_count": 1,
   "metadata": {},
   "outputs": [],
   "source": [
    "import os"
   ]
  },
  {
   "cell_type": "code",
   "execution_count": 2,
   "metadata": {},
   "outputs": [],
   "source": [
    "import numpy as np"
   ]
  },
  {
   "cell_type": "code",
   "execution_count": 3,
   "metadata": {},
   "outputs": [],
   "source": [
    "import pandas as pd"
   ]
  },
  {
   "cell_type": "code",
   "execution_count": 4,
   "metadata": {},
   "outputs": [],
   "source": [
    "import tensorflow as tf"
   ]
  },
  {
   "cell_type": "code",
   "execution_count": 5,
   "metadata": {},
   "outputs": [],
   "source": [
    "import matplotlib.pyplot as plt"
   ]
  },
  {
   "cell_type": "code",
   "execution_count": 6,
   "metadata": {},
   "outputs": [],
   "source": [
    "from tensorflow import keras"
   ]
  },
  {
   "cell_type": "code",
   "execution_count": 7,
   "metadata": {},
   "outputs": [],
   "source": [
    "from tensorflow.keras import layers"
   ]
  },
  {
   "cell_type": "code",
   "execution_count": 8,
   "metadata": {},
   "outputs": [],
   "source": [
    "data=pd.read_csv(\"./kc_house_data.csv\")"
   ]
  },
  {
   "cell_type": "code",
   "execution_count": 9,
   "metadata": {},
   "outputs": [
    {
     "data": {
      "text/plain": [
       "(21613, 21)"
      ]
     },
     "execution_count": 9,
     "metadata": {},
     "output_type": "execute_result"
    }
   ],
   "source": [
    "data.shape"
   ]
  },
  {
   "cell_type": "code",
   "execution_count": 10,
   "metadata": {},
   "outputs": [],
   "source": [
    "pd.options.display.max_columns=25"
   ]
  },
  {
   "cell_type": "code",
   "execution_count": 11,
   "metadata": {},
   "outputs": [
    {
     "data": {
      "text/html": [
       "<div>\n",
       "<style scoped>\n",
       "    .dataframe tbody tr th:only-of-type {\n",
       "        vertical-align: middle;\n",
       "    }\n",
       "\n",
       "    .dataframe tbody tr th {\n",
       "        vertical-align: top;\n",
       "    }\n",
       "\n",
       "    .dataframe thead th {\n",
       "        text-align: right;\n",
       "    }\n",
       "</style>\n",
       "<table border=\"1\" class=\"dataframe\">\n",
       "  <thead>\n",
       "    <tr style=\"text-align: right;\">\n",
       "      <th></th>\n",
       "      <th>id</th>\n",
       "      <th>date</th>\n",
       "      <th>price</th>\n",
       "      <th>bedrooms</th>\n",
       "      <th>bathrooms</th>\n",
       "      <th>sqft_living</th>\n",
       "      <th>sqft_lot</th>\n",
       "      <th>floors</th>\n",
       "      <th>waterfront</th>\n",
       "      <th>view</th>\n",
       "      <th>condition</th>\n",
       "      <th>grade</th>\n",
       "      <th>sqft_above</th>\n",
       "      <th>sqft_basement</th>\n",
       "      <th>yr_built</th>\n",
       "      <th>yr_renovated</th>\n",
       "      <th>zipcode</th>\n",
       "      <th>lat</th>\n",
       "      <th>long</th>\n",
       "      <th>sqft_living15</th>\n",
       "      <th>sqft_lot15</th>\n",
       "    </tr>\n",
       "  </thead>\n",
       "  <tbody>\n",
       "    <tr>\n",
       "      <th>0</th>\n",
       "      <td>7129300520</td>\n",
       "      <td>20141013T000000</td>\n",
       "      <td>221900.0</td>\n",
       "      <td>3</td>\n",
       "      <td>1.00</td>\n",
       "      <td>1180</td>\n",
       "      <td>5650</td>\n",
       "      <td>1.0</td>\n",
       "      <td>0</td>\n",
       "      <td>0</td>\n",
       "      <td>3</td>\n",
       "      <td>7</td>\n",
       "      <td>1180</td>\n",
       "      <td>0</td>\n",
       "      <td>1955</td>\n",
       "      <td>0</td>\n",
       "      <td>98178</td>\n",
       "      <td>47.5112</td>\n",
       "      <td>-122.257</td>\n",
       "      <td>1340</td>\n",
       "      <td>5650</td>\n",
       "    </tr>\n",
       "    <tr>\n",
       "      <th>1</th>\n",
       "      <td>6414100192</td>\n",
       "      <td>20141209T000000</td>\n",
       "      <td>538000.0</td>\n",
       "      <td>3</td>\n",
       "      <td>2.25</td>\n",
       "      <td>2570</td>\n",
       "      <td>7242</td>\n",
       "      <td>2.0</td>\n",
       "      <td>0</td>\n",
       "      <td>0</td>\n",
       "      <td>3</td>\n",
       "      <td>7</td>\n",
       "      <td>2170</td>\n",
       "      <td>400</td>\n",
       "      <td>1951</td>\n",
       "      <td>1991</td>\n",
       "      <td>98125</td>\n",
       "      <td>47.7210</td>\n",
       "      <td>-122.319</td>\n",
       "      <td>1690</td>\n",
       "      <td>7639</td>\n",
       "    </tr>\n",
       "    <tr>\n",
       "      <th>2</th>\n",
       "      <td>5631500400</td>\n",
       "      <td>20150225T000000</td>\n",
       "      <td>180000.0</td>\n",
       "      <td>2</td>\n",
       "      <td>1.00</td>\n",
       "      <td>770</td>\n",
       "      <td>10000</td>\n",
       "      <td>1.0</td>\n",
       "      <td>0</td>\n",
       "      <td>0</td>\n",
       "      <td>3</td>\n",
       "      <td>6</td>\n",
       "      <td>770</td>\n",
       "      <td>0</td>\n",
       "      <td>1933</td>\n",
       "      <td>0</td>\n",
       "      <td>98028</td>\n",
       "      <td>47.7379</td>\n",
       "      <td>-122.233</td>\n",
       "      <td>2720</td>\n",
       "      <td>8062</td>\n",
       "    </tr>\n",
       "    <tr>\n",
       "      <th>3</th>\n",
       "      <td>2487200875</td>\n",
       "      <td>20141209T000000</td>\n",
       "      <td>604000.0</td>\n",
       "      <td>4</td>\n",
       "      <td>3.00</td>\n",
       "      <td>1960</td>\n",
       "      <td>5000</td>\n",
       "      <td>1.0</td>\n",
       "      <td>0</td>\n",
       "      <td>0</td>\n",
       "      <td>5</td>\n",
       "      <td>7</td>\n",
       "      <td>1050</td>\n",
       "      <td>910</td>\n",
       "      <td>1965</td>\n",
       "      <td>0</td>\n",
       "      <td>98136</td>\n",
       "      <td>47.5208</td>\n",
       "      <td>-122.393</td>\n",
       "      <td>1360</td>\n",
       "      <td>5000</td>\n",
       "    </tr>\n",
       "    <tr>\n",
       "      <th>4</th>\n",
       "      <td>1954400510</td>\n",
       "      <td>20150218T000000</td>\n",
       "      <td>510000.0</td>\n",
       "      <td>3</td>\n",
       "      <td>2.00</td>\n",
       "      <td>1680</td>\n",
       "      <td>8080</td>\n",
       "      <td>1.0</td>\n",
       "      <td>0</td>\n",
       "      <td>0</td>\n",
       "      <td>3</td>\n",
       "      <td>8</td>\n",
       "      <td>1680</td>\n",
       "      <td>0</td>\n",
       "      <td>1987</td>\n",
       "      <td>0</td>\n",
       "      <td>98074</td>\n",
       "      <td>47.6168</td>\n",
       "      <td>-122.045</td>\n",
       "      <td>1800</td>\n",
       "      <td>7503</td>\n",
       "    </tr>\n",
       "  </tbody>\n",
       "</table>\n",
       "</div>"
      ],
      "text/plain": [
       "           id             date     price  bedrooms  bathrooms  sqft_living  \\\n",
       "0  7129300520  20141013T000000  221900.0         3       1.00         1180   \n",
       "1  6414100192  20141209T000000  538000.0         3       2.25         2570   \n",
       "2  5631500400  20150225T000000  180000.0         2       1.00          770   \n",
       "3  2487200875  20141209T000000  604000.0         4       3.00         1960   \n",
       "4  1954400510  20150218T000000  510000.0         3       2.00         1680   \n",
       "\n",
       "   sqft_lot  floors  waterfront  view  condition  grade  sqft_above  \\\n",
       "0      5650     1.0           0     0          3      7        1180   \n",
       "1      7242     2.0           0     0          3      7        2170   \n",
       "2     10000     1.0           0     0          3      6         770   \n",
       "3      5000     1.0           0     0          5      7        1050   \n",
       "4      8080     1.0           0     0          3      8        1680   \n",
       "\n",
       "   sqft_basement  yr_built  yr_renovated  zipcode      lat     long  \\\n",
       "0              0      1955             0    98178  47.5112 -122.257   \n",
       "1            400      1951          1991    98125  47.7210 -122.319   \n",
       "2              0      1933             0    98028  47.7379 -122.233   \n",
       "3            910      1965             0    98136  47.5208 -122.393   \n",
       "4              0      1987             0    98074  47.6168 -122.045   \n",
       "\n",
       "   sqft_living15  sqft_lot15  \n",
       "0           1340        5650  \n",
       "1           1690        7639  \n",
       "2           2720        8062  \n",
       "3           1360        5000  \n",
       "4           1800        7503  "
      ]
     },
     "execution_count": 11,
     "metadata": {},
     "output_type": "execute_result"
    }
   ],
   "source": [
    "data.head()"
   ]
  },
  {
   "cell_type": "code",
   "execution_count": 12,
   "metadata": {},
   "outputs": [
    {
     "data": {
      "text/plain": [
       "id                 int64\n",
       "date              object\n",
       "price            float64\n",
       "bedrooms           int64\n",
       "bathrooms        float64\n",
       "sqft_living        int64\n",
       "sqft_lot           int64\n",
       "floors           float64\n",
       "waterfront         int64\n",
       "view               int64\n",
       "condition          int64\n",
       "grade              int64\n",
       "sqft_above         int64\n",
       "sqft_basement      int64\n",
       "yr_built           int64\n",
       "yr_renovated       int64\n",
       "zipcode            int64\n",
       "lat              float64\n",
       "long             float64\n",
       "sqft_living15      int64\n",
       "sqft_lot15         int64\n",
       "dtype: object"
      ]
     },
     "execution_count": 12,
     "metadata": {},
     "output_type": "execute_result"
    }
   ],
   "source": [
    "data.dtypes # date is string type"
   ]
  },
  {
   "cell_type": "code",
   "execution_count": 13,
   "metadata": {},
   "outputs": [],
   "source": [
    "data['year']=pd.to_numeric(data['date'].str.slice(0,4))"
   ]
  },
  {
   "cell_type": "code",
   "execution_count": 14,
   "metadata": {},
   "outputs": [],
   "source": [
    "data['month']=pd.to_numeric(data['date'].str.slice(4,6))"
   ]
  },
  {
   "cell_type": "code",
   "execution_count": 15,
   "metadata": {},
   "outputs": [],
   "source": [
    "data['day']=pd.to_numeric(data['date'].str.slice(6,8))"
   ]
  },
  {
   "cell_type": "code",
   "execution_count": 16,
   "metadata": {},
   "outputs": [],
   "source": [
    "data.drop(['id'],axis=\"columns\",inplace=True)"
   ]
  },
  {
   "cell_type": "code",
   "execution_count": 17,
   "metadata": {},
   "outputs": [],
   "source": [
    "data.drop(['date'],axis=\"columns\",inplace=True)"
   ]
  },
  {
   "cell_type": "code",
   "execution_count": 18,
   "metadata": {},
   "outputs": [
    {
     "data": {
      "text/html": [
       "<div>\n",
       "<style scoped>\n",
       "    .dataframe tbody tr th:only-of-type {\n",
       "        vertical-align: middle;\n",
       "    }\n",
       "\n",
       "    .dataframe tbody tr th {\n",
       "        vertical-align: top;\n",
       "    }\n",
       "\n",
       "    .dataframe thead th {\n",
       "        text-align: right;\n",
       "    }\n",
       "</style>\n",
       "<table border=\"1\" class=\"dataframe\">\n",
       "  <thead>\n",
       "    <tr style=\"text-align: right;\">\n",
       "      <th></th>\n",
       "      <th>price</th>\n",
       "      <th>bedrooms</th>\n",
       "      <th>bathrooms</th>\n",
       "      <th>sqft_living</th>\n",
       "      <th>sqft_lot</th>\n",
       "      <th>floors</th>\n",
       "      <th>waterfront</th>\n",
       "      <th>view</th>\n",
       "      <th>condition</th>\n",
       "      <th>grade</th>\n",
       "      <th>sqft_above</th>\n",
       "      <th>sqft_basement</th>\n",
       "      <th>yr_built</th>\n",
       "      <th>yr_renovated</th>\n",
       "      <th>zipcode</th>\n",
       "      <th>lat</th>\n",
       "      <th>long</th>\n",
       "      <th>sqft_living15</th>\n",
       "      <th>sqft_lot15</th>\n",
       "      <th>year</th>\n",
       "      <th>month</th>\n",
       "      <th>day</th>\n",
       "    </tr>\n",
       "  </thead>\n",
       "  <tbody>\n",
       "    <tr>\n",
       "      <th>0</th>\n",
       "      <td>221900.0</td>\n",
       "      <td>3</td>\n",
       "      <td>1.00</td>\n",
       "      <td>1180</td>\n",
       "      <td>5650</td>\n",
       "      <td>1.0</td>\n",
       "      <td>0</td>\n",
       "      <td>0</td>\n",
       "      <td>3</td>\n",
       "      <td>7</td>\n",
       "      <td>1180</td>\n",
       "      <td>0</td>\n",
       "      <td>1955</td>\n",
       "      <td>0</td>\n",
       "      <td>98178</td>\n",
       "      <td>47.5112</td>\n",
       "      <td>-122.257</td>\n",
       "      <td>1340</td>\n",
       "      <td>5650</td>\n",
       "      <td>2014</td>\n",
       "      <td>10</td>\n",
       "      <td>13</td>\n",
       "    </tr>\n",
       "    <tr>\n",
       "      <th>1</th>\n",
       "      <td>538000.0</td>\n",
       "      <td>3</td>\n",
       "      <td>2.25</td>\n",
       "      <td>2570</td>\n",
       "      <td>7242</td>\n",
       "      <td>2.0</td>\n",
       "      <td>0</td>\n",
       "      <td>0</td>\n",
       "      <td>3</td>\n",
       "      <td>7</td>\n",
       "      <td>2170</td>\n",
       "      <td>400</td>\n",
       "      <td>1951</td>\n",
       "      <td>1991</td>\n",
       "      <td>98125</td>\n",
       "      <td>47.7210</td>\n",
       "      <td>-122.319</td>\n",
       "      <td>1690</td>\n",
       "      <td>7639</td>\n",
       "      <td>2014</td>\n",
       "      <td>12</td>\n",
       "      <td>9</td>\n",
       "    </tr>\n",
       "    <tr>\n",
       "      <th>2</th>\n",
       "      <td>180000.0</td>\n",
       "      <td>2</td>\n",
       "      <td>1.00</td>\n",
       "      <td>770</td>\n",
       "      <td>10000</td>\n",
       "      <td>1.0</td>\n",
       "      <td>0</td>\n",
       "      <td>0</td>\n",
       "      <td>3</td>\n",
       "      <td>6</td>\n",
       "      <td>770</td>\n",
       "      <td>0</td>\n",
       "      <td>1933</td>\n",
       "      <td>0</td>\n",
       "      <td>98028</td>\n",
       "      <td>47.7379</td>\n",
       "      <td>-122.233</td>\n",
       "      <td>2720</td>\n",
       "      <td>8062</td>\n",
       "      <td>2015</td>\n",
       "      <td>2</td>\n",
       "      <td>25</td>\n",
       "    </tr>\n",
       "    <tr>\n",
       "      <th>3</th>\n",
       "      <td>604000.0</td>\n",
       "      <td>4</td>\n",
       "      <td>3.00</td>\n",
       "      <td>1960</td>\n",
       "      <td>5000</td>\n",
       "      <td>1.0</td>\n",
       "      <td>0</td>\n",
       "      <td>0</td>\n",
       "      <td>5</td>\n",
       "      <td>7</td>\n",
       "      <td>1050</td>\n",
       "      <td>910</td>\n",
       "      <td>1965</td>\n",
       "      <td>0</td>\n",
       "      <td>98136</td>\n",
       "      <td>47.5208</td>\n",
       "      <td>-122.393</td>\n",
       "      <td>1360</td>\n",
       "      <td>5000</td>\n",
       "      <td>2014</td>\n",
       "      <td>12</td>\n",
       "      <td>9</td>\n",
       "    </tr>\n",
       "    <tr>\n",
       "      <th>4</th>\n",
       "      <td>510000.0</td>\n",
       "      <td>3</td>\n",
       "      <td>2.00</td>\n",
       "      <td>1680</td>\n",
       "      <td>8080</td>\n",
       "      <td>1.0</td>\n",
       "      <td>0</td>\n",
       "      <td>0</td>\n",
       "      <td>3</td>\n",
       "      <td>8</td>\n",
       "      <td>1680</td>\n",
       "      <td>0</td>\n",
       "      <td>1987</td>\n",
       "      <td>0</td>\n",
       "      <td>98074</td>\n",
       "      <td>47.6168</td>\n",
       "      <td>-122.045</td>\n",
       "      <td>1800</td>\n",
       "      <td>7503</td>\n",
       "      <td>2015</td>\n",
       "      <td>2</td>\n",
       "      <td>18</td>\n",
       "    </tr>\n",
       "  </tbody>\n",
       "</table>\n",
       "</div>"
      ],
      "text/plain": [
       "      price  bedrooms  bathrooms  sqft_living  sqft_lot  floors  waterfront  \\\n",
       "0  221900.0         3       1.00         1180      5650     1.0           0   \n",
       "1  538000.0         3       2.25         2570      7242     2.0           0   \n",
       "2  180000.0         2       1.00          770     10000     1.0           0   \n",
       "3  604000.0         4       3.00         1960      5000     1.0           0   \n",
       "4  510000.0         3       2.00         1680      8080     1.0           0   \n",
       "\n",
       "   view  condition  grade  sqft_above  sqft_basement  yr_built  yr_renovated  \\\n",
       "0     0          3      7        1180              0      1955             0   \n",
       "1     0          3      7        2170            400      1951          1991   \n",
       "2     0          3      6         770              0      1933             0   \n",
       "3     0          5      7        1050            910      1965             0   \n",
       "4     0          3      8        1680              0      1987             0   \n",
       "\n",
       "   zipcode      lat     long  sqft_living15  sqft_lot15  year  month  day  \n",
       "0    98178  47.5112 -122.257           1340        5650  2014     10   13  \n",
       "1    98125  47.7210 -122.319           1690        7639  2014     12    9  \n",
       "2    98028  47.7379 -122.233           2720        8062  2015      2   25  \n",
       "3    98136  47.5208 -122.393           1360        5000  2014     12    9  \n",
       "4    98074  47.6168 -122.045           1800        7503  2015      2   18  "
      ]
     },
     "execution_count": 18,
     "metadata": {},
     "output_type": "execute_result"
    }
   ],
   "source": [
    "data.head()"
   ]
  },
  {
   "cell_type": "code",
   "execution_count": 19,
   "metadata": {},
   "outputs": [],
   "source": [
    "data_num=data.shape[0]"
   ]
  },
  {
   "cell_type": "code",
   "execution_count": 20,
   "metadata": {},
   "outputs": [
    {
     "data": {
      "text/plain": [
       "21613"
      ]
     },
     "execution_count": 20,
     "metadata": {},
     "output_type": "execute_result"
    }
   ],
   "source": [
    "data_num"
   ]
  },
  {
   "cell_type": "code",
   "execution_count": 21,
   "metadata": {},
   "outputs": [],
   "source": [
    "indexes=np.random.permutation(data_num)"
   ]
  },
  {
   "cell_type": "code",
   "execution_count": 22,
   "metadata": {},
   "outputs": [
    {
     "data": {
      "text/plain": [
       "array([ 2743, 12057,  9038, ..., 13806,  2382,  8164])"
      ]
     },
     "execution_count": 22,
     "metadata": {},
     "output_type": "execute_result"
    }
   ],
   "source": [
    "indexes"
   ]
  },
  {
   "cell_type": "code",
   "execution_count": 23,
   "metadata": {},
   "outputs": [],
   "source": [
    "#train:validation:test=6:2:2"
   ]
  },
  {
   "cell_type": "code",
   "execution_count": 24,
   "metadata": {},
   "outputs": [],
   "source": [
    "train_indexes=indexes[:int(data_num*0.6)]"
   ]
  },
  {
   "cell_type": "code",
   "execution_count": 25,
   "metadata": {},
   "outputs": [
    {
     "data": {
      "text/plain": [
       "array([ 2743, 12057,  9038, ..., 17198,  1743, 11027])"
      ]
     },
     "execution_count": 25,
     "metadata": {},
     "output_type": "execute_result"
    }
   ],
   "source": [
    "train_indexes"
   ]
  },
  {
   "cell_type": "code",
   "execution_count": 26,
   "metadata": {},
   "outputs": [],
   "source": [
    "val_indexes=indexes[int(data_num*0.6):int(data_num*0.8)]"
   ]
  },
  {
   "cell_type": "code",
   "execution_count": 27,
   "metadata": {},
   "outputs": [],
   "source": [
    "test_indexes=indexes[int(data_num*0.8):]"
   ]
  },
  {
   "cell_type": "code",
   "execution_count": 28,
   "metadata": {},
   "outputs": [],
   "source": [
    "#take out data via index "
   ]
  },
  {
   "cell_type": "code",
   "execution_count": 29,
   "metadata": {},
   "outputs": [],
   "source": [
    "train_data=data.iloc[train_indexes]"
   ]
  },
  {
   "cell_type": "code",
   "execution_count": 30,
   "metadata": {},
   "outputs": [
    {
     "data": {
      "text/html": [
       "<div>\n",
       "<style scoped>\n",
       "    .dataframe tbody tr th:only-of-type {\n",
       "        vertical-align: middle;\n",
       "    }\n",
       "\n",
       "    .dataframe tbody tr th {\n",
       "        vertical-align: top;\n",
       "    }\n",
       "\n",
       "    .dataframe thead th {\n",
       "        text-align: right;\n",
       "    }\n",
       "</style>\n",
       "<table border=\"1\" class=\"dataframe\">\n",
       "  <thead>\n",
       "    <tr style=\"text-align: right;\">\n",
       "      <th></th>\n",
       "      <th>price</th>\n",
       "      <th>bedrooms</th>\n",
       "      <th>bathrooms</th>\n",
       "      <th>sqft_living</th>\n",
       "      <th>sqft_lot</th>\n",
       "      <th>floors</th>\n",
       "      <th>waterfront</th>\n",
       "      <th>view</th>\n",
       "      <th>condition</th>\n",
       "      <th>grade</th>\n",
       "      <th>sqft_above</th>\n",
       "      <th>sqft_basement</th>\n",
       "      <th>yr_built</th>\n",
       "      <th>yr_renovated</th>\n",
       "      <th>zipcode</th>\n",
       "      <th>lat</th>\n",
       "      <th>long</th>\n",
       "      <th>sqft_living15</th>\n",
       "      <th>sqft_lot15</th>\n",
       "      <th>year</th>\n",
       "      <th>month</th>\n",
       "      <th>day</th>\n",
       "    </tr>\n",
       "  </thead>\n",
       "  <tbody>\n",
       "    <tr>\n",
       "      <th>2743</th>\n",
       "      <td>388000.0</td>\n",
       "      <td>4</td>\n",
       "      <td>2.50</td>\n",
       "      <td>2560</td>\n",
       "      <td>5800</td>\n",
       "      <td>2.0</td>\n",
       "      <td>0</td>\n",
       "      <td>0</td>\n",
       "      <td>3</td>\n",
       "      <td>9</td>\n",
       "      <td>2560</td>\n",
       "      <td>0</td>\n",
       "      <td>2005</td>\n",
       "      <td>0</td>\n",
       "      <td>98038</td>\n",
       "      <td>47.3474</td>\n",
       "      <td>-122.025</td>\n",
       "      <td>3040</td>\n",
       "      <td>5800</td>\n",
       "      <td>2015</td>\n",
       "      <td>1</td>\n",
       "      <td>8</td>\n",
       "    </tr>\n",
       "    <tr>\n",
       "      <th>12057</th>\n",
       "      <td>500000.0</td>\n",
       "      <td>4</td>\n",
       "      <td>2.50</td>\n",
       "      <td>1770</td>\n",
       "      <td>8155</td>\n",
       "      <td>1.5</td>\n",
       "      <td>0</td>\n",
       "      <td>0</td>\n",
       "      <td>4</td>\n",
       "      <td>6</td>\n",
       "      <td>1770</td>\n",
       "      <td>0</td>\n",
       "      <td>1970</td>\n",
       "      <td>1993</td>\n",
       "      <td>98034</td>\n",
       "      <td>47.7190</td>\n",
       "      <td>-122.173</td>\n",
       "      <td>1460</td>\n",
       "      <td>7360</td>\n",
       "      <td>2015</td>\n",
       "      <td>5</td>\n",
       "      <td>5</td>\n",
       "    </tr>\n",
       "    <tr>\n",
       "      <th>9038</th>\n",
       "      <td>397990.0</td>\n",
       "      <td>3</td>\n",
       "      <td>1.00</td>\n",
       "      <td>1180</td>\n",
       "      <td>11862</td>\n",
       "      <td>1.0</td>\n",
       "      <td>0</td>\n",
       "      <td>0</td>\n",
       "      <td>4</td>\n",
       "      <td>7</td>\n",
       "      <td>1180</td>\n",
       "      <td>0</td>\n",
       "      <td>1948</td>\n",
       "      <td>0</td>\n",
       "      <td>98177</td>\n",
       "      <td>47.7153</td>\n",
       "      <td>-122.363</td>\n",
       "      <td>1540</td>\n",
       "      <td>8100</td>\n",
       "      <td>2014</td>\n",
       "      <td>6</td>\n",
       "      <td>12</td>\n",
       "    </tr>\n",
       "    <tr>\n",
       "      <th>5843</th>\n",
       "      <td>616000.0</td>\n",
       "      <td>4</td>\n",
       "      <td>1.75</td>\n",
       "      <td>1700</td>\n",
       "      <td>5846</td>\n",
       "      <td>1.0</td>\n",
       "      <td>0</td>\n",
       "      <td>0</td>\n",
       "      <td>3</td>\n",
       "      <td>8</td>\n",
       "      <td>1700</td>\n",
       "      <td>0</td>\n",
       "      <td>1957</td>\n",
       "      <td>0</td>\n",
       "      <td>98199</td>\n",
       "      <td>47.6539</td>\n",
       "      <td>-122.408</td>\n",
       "      <td>1480</td>\n",
       "      <td>5177</td>\n",
       "      <td>2014</td>\n",
       "      <td>7</td>\n",
       "      <td>1</td>\n",
       "    </tr>\n",
       "    <tr>\n",
       "      <th>16149</th>\n",
       "      <td>533000.0</td>\n",
       "      <td>3</td>\n",
       "      <td>2.50</td>\n",
       "      <td>2810</td>\n",
       "      <td>4607</td>\n",
       "      <td>2.0</td>\n",
       "      <td>0</td>\n",
       "      <td>0</td>\n",
       "      <td>3</td>\n",
       "      <td>8</td>\n",
       "      <td>2810</td>\n",
       "      <td>0</td>\n",
       "      <td>2004</td>\n",
       "      <td>0</td>\n",
       "      <td>98011</td>\n",
       "      <td>47.7735</td>\n",
       "      <td>-122.227</td>\n",
       "      <td>2540</td>\n",
       "      <td>4871</td>\n",
       "      <td>2014</td>\n",
       "      <td>10</td>\n",
       "      <td>9</td>\n",
       "    </tr>\n",
       "    <tr>\n",
       "      <th>...</th>\n",
       "      <td>...</td>\n",
       "      <td>...</td>\n",
       "      <td>...</td>\n",
       "      <td>...</td>\n",
       "      <td>...</td>\n",
       "      <td>...</td>\n",
       "      <td>...</td>\n",
       "      <td>...</td>\n",
       "      <td>...</td>\n",
       "      <td>...</td>\n",
       "      <td>...</td>\n",
       "      <td>...</td>\n",
       "      <td>...</td>\n",
       "      <td>...</td>\n",
       "      <td>...</td>\n",
       "      <td>...</td>\n",
       "      <td>...</td>\n",
       "      <td>...</td>\n",
       "      <td>...</td>\n",
       "      <td>...</td>\n",
       "      <td>...</td>\n",
       "      <td>...</td>\n",
       "    </tr>\n",
       "    <tr>\n",
       "      <th>15129</th>\n",
       "      <td>937750.0</td>\n",
       "      <td>4</td>\n",
       "      <td>2.75</td>\n",
       "      <td>2580</td>\n",
       "      <td>3560</td>\n",
       "      <td>1.5</td>\n",
       "      <td>0</td>\n",
       "      <td>0</td>\n",
       "      <td>5</td>\n",
       "      <td>7</td>\n",
       "      <td>1710</td>\n",
       "      <td>870</td>\n",
       "      <td>1917</td>\n",
       "      <td>0</td>\n",
       "      <td>98115</td>\n",
       "      <td>47.6753</td>\n",
       "      <td>-122.304</td>\n",
       "      <td>1980</td>\n",
       "      <td>3800</td>\n",
       "      <td>2015</td>\n",
       "      <td>3</td>\n",
       "      <td>27</td>\n",
       "    </tr>\n",
       "    <tr>\n",
       "      <th>5113</th>\n",
       "      <td>800000.0</td>\n",
       "      <td>3</td>\n",
       "      <td>2.50</td>\n",
       "      <td>1630</td>\n",
       "      <td>2640</td>\n",
       "      <td>2.0</td>\n",
       "      <td>0</td>\n",
       "      <td>0</td>\n",
       "      <td>5</td>\n",
       "      <td>8</td>\n",
       "      <td>1630</td>\n",
       "      <td>0</td>\n",
       "      <td>1919</td>\n",
       "      <td>0</td>\n",
       "      <td>98119</td>\n",
       "      <td>47.6452</td>\n",
       "      <td>-122.371</td>\n",
       "      <td>1630</td>\n",
       "      <td>3000</td>\n",
       "      <td>2014</td>\n",
       "      <td>7</td>\n",
       "      <td>16</td>\n",
       "    </tr>\n",
       "    <tr>\n",
       "      <th>17198</th>\n",
       "      <td>305000.0</td>\n",
       "      <td>3</td>\n",
       "      <td>2.00</td>\n",
       "      <td>1490</td>\n",
       "      <td>7697</td>\n",
       "      <td>1.0</td>\n",
       "      <td>0</td>\n",
       "      <td>0</td>\n",
       "      <td>3</td>\n",
       "      <td>7</td>\n",
       "      <td>1490</td>\n",
       "      <td>0</td>\n",
       "      <td>1994</td>\n",
       "      <td>0</td>\n",
       "      <td>98059</td>\n",
       "      <td>47.4852</td>\n",
       "      <td>-122.164</td>\n",
       "      <td>1540</td>\n",
       "      <td>7529</td>\n",
       "      <td>2014</td>\n",
       "      <td>8</td>\n",
       "      <td>21</td>\n",
       "    </tr>\n",
       "    <tr>\n",
       "      <th>1743</th>\n",
       "      <td>508000.0</td>\n",
       "      <td>4</td>\n",
       "      <td>2.25</td>\n",
       "      <td>3320</td>\n",
       "      <td>53392</td>\n",
       "      <td>2.0</td>\n",
       "      <td>0</td>\n",
       "      <td>0</td>\n",
       "      <td>4</td>\n",
       "      <td>8</td>\n",
       "      <td>2000</td>\n",
       "      <td>1320</td>\n",
       "      <td>1986</td>\n",
       "      <td>0</td>\n",
       "      <td>98027</td>\n",
       "      <td>47.4724</td>\n",
       "      <td>-122.014</td>\n",
       "      <td>3230</td>\n",
       "      <td>43129</td>\n",
       "      <td>2014</td>\n",
       "      <td>10</td>\n",
       "      <td>14</td>\n",
       "    </tr>\n",
       "    <tr>\n",
       "      <th>11027</th>\n",
       "      <td>408000.0</td>\n",
       "      <td>3</td>\n",
       "      <td>3.00</td>\n",
       "      <td>1500</td>\n",
       "      <td>1473</td>\n",
       "      <td>2.0</td>\n",
       "      <td>0</td>\n",
       "      <td>0</td>\n",
       "      <td>3</td>\n",
       "      <td>8</td>\n",
       "      <td>1120</td>\n",
       "      <td>380</td>\n",
       "      <td>2000</td>\n",
       "      <td>0</td>\n",
       "      <td>98122</td>\n",
       "      <td>47.6063</td>\n",
       "      <td>-122.305</td>\n",
       "      <td>1720</td>\n",
       "      <td>1976</td>\n",
       "      <td>2014</td>\n",
       "      <td>8</td>\n",
       "      <td>13</td>\n",
       "    </tr>\n",
       "  </tbody>\n",
       "</table>\n",
       "<p>12967 rows × 22 columns</p>\n",
       "</div>"
      ],
      "text/plain": [
       "          price  bedrooms  bathrooms  sqft_living  sqft_lot  floors  \\\n",
       "2743   388000.0         4       2.50         2560      5800     2.0   \n",
       "12057  500000.0         4       2.50         1770      8155     1.5   \n",
       "9038   397990.0         3       1.00         1180     11862     1.0   \n",
       "5843   616000.0         4       1.75         1700      5846     1.0   \n",
       "16149  533000.0         3       2.50         2810      4607     2.0   \n",
       "...         ...       ...        ...          ...       ...     ...   \n",
       "15129  937750.0         4       2.75         2580      3560     1.5   \n",
       "5113   800000.0         3       2.50         1630      2640     2.0   \n",
       "17198  305000.0         3       2.00         1490      7697     1.0   \n",
       "1743   508000.0         4       2.25         3320     53392     2.0   \n",
       "11027  408000.0         3       3.00         1500      1473     2.0   \n",
       "\n",
       "       waterfront  view  condition  grade  sqft_above  sqft_basement  \\\n",
       "2743            0     0          3      9        2560              0   \n",
       "12057           0     0          4      6        1770              0   \n",
       "9038            0     0          4      7        1180              0   \n",
       "5843            0     0          3      8        1700              0   \n",
       "16149           0     0          3      8        2810              0   \n",
       "...           ...   ...        ...    ...         ...            ...   \n",
       "15129           0     0          5      7        1710            870   \n",
       "5113            0     0          5      8        1630              0   \n",
       "17198           0     0          3      7        1490              0   \n",
       "1743            0     0          4      8        2000           1320   \n",
       "11027           0     0          3      8        1120            380   \n",
       "\n",
       "       yr_built  yr_renovated  zipcode      lat     long  sqft_living15  \\\n",
       "2743       2005             0    98038  47.3474 -122.025           3040   \n",
       "12057      1970          1993    98034  47.7190 -122.173           1460   \n",
       "9038       1948             0    98177  47.7153 -122.363           1540   \n",
       "5843       1957             0    98199  47.6539 -122.408           1480   \n",
       "16149      2004             0    98011  47.7735 -122.227           2540   \n",
       "...         ...           ...      ...      ...      ...            ...   \n",
       "15129      1917             0    98115  47.6753 -122.304           1980   \n",
       "5113       1919             0    98119  47.6452 -122.371           1630   \n",
       "17198      1994             0    98059  47.4852 -122.164           1540   \n",
       "1743       1986             0    98027  47.4724 -122.014           3230   \n",
       "11027      2000             0    98122  47.6063 -122.305           1720   \n",
       "\n",
       "       sqft_lot15  year  month  day  \n",
       "2743         5800  2015      1    8  \n",
       "12057        7360  2015      5    5  \n",
       "9038         8100  2014      6   12  \n",
       "5843         5177  2014      7    1  \n",
       "16149        4871  2014     10    9  \n",
       "...           ...   ...    ...  ...  \n",
       "15129        3800  2015      3   27  \n",
       "5113         3000  2014      7   16  \n",
       "17198        7529  2014      8   21  \n",
       "1743        43129  2014     10   14  \n",
       "11027        1976  2014      8   13  \n",
       "\n",
       "[12967 rows x 22 columns]"
      ]
     },
     "execution_count": 30,
     "metadata": {},
     "output_type": "execute_result"
    }
   ],
   "source": [
    "train_data"
   ]
  },
  {
   "cell_type": "code",
   "execution_count": 31,
   "metadata": {},
   "outputs": [],
   "source": [
    "val_data=data.iloc[val_indexes]"
   ]
  },
  {
   "cell_type": "code",
   "execution_count": 32,
   "metadata": {},
   "outputs": [],
   "source": [
    "test_data=data.iloc[test_indexes]"
   ]
  },
  {
   "cell_type": "code",
   "execution_count": 33,
   "metadata": {},
   "outputs": [],
   "source": [
    "# normalization"
   ]
  },
  {
   "cell_type": "code",
   "execution_count": 34,
   "metadata": {},
   "outputs": [],
   "source": [
    "train_validation_data=pd.concat([train_data,val_data])"
   ]
  },
  {
   "cell_type": "code",
   "execution_count": 35,
   "metadata": {},
   "outputs": [],
   "source": [
    "mean=train_validation_data.mean()"
   ]
  },
  {
   "cell_type": "code",
   "execution_count": 36,
   "metadata": {},
   "outputs": [],
   "source": [
    "std=train_validation_data.std()"
   ]
  },
  {
   "cell_type": "code",
   "execution_count": 37,
   "metadata": {},
   "outputs": [],
   "source": [
    "train_data=(train_data-mean)/std"
   ]
  },
  {
   "cell_type": "code",
   "execution_count": 38,
   "metadata": {},
   "outputs": [],
   "source": [
    "val_data=(val_data-mean)/std"
   ]
  },
  {
   "cell_type": "code",
   "execution_count": 39,
   "metadata": {},
   "outputs": [],
   "source": [
    "# Numpy array training & validation data"
   ]
  },
  {
   "cell_type": "code",
   "execution_count": 40,
   "metadata": {},
   "outputs": [],
   "source": [
    "x_train=np.array(train_data.drop('price',axis='columns'))"
   ]
  },
  {
   "cell_type": "code",
   "execution_count": 41,
   "metadata": {},
   "outputs": [],
   "source": [
    "y_train=np.array(train_data['price'])"
   ]
  },
  {
   "cell_type": "code",
   "execution_count": 42,
   "metadata": {},
   "outputs": [],
   "source": [
    "x_val=np.array(val_data.drop('price',axis='columns'))"
   ]
  },
  {
   "cell_type": "code",
   "execution_count": 43,
   "metadata": {},
   "outputs": [],
   "source": [
    "y_val=np.array(val_data['price'])"
   ]
  },
  {
   "cell_type": "code",
   "execution_count": 44,
   "metadata": {},
   "outputs": [
    {
     "data": {
      "text/plain": [
       "(12967, 21)"
      ]
     },
     "execution_count": 44,
     "metadata": {},
     "output_type": "execute_result"
    }
   ],
   "source": [
    "x_train.shape"
   ]
  },
  {
   "cell_type": "code",
   "execution_count": 45,
   "metadata": {},
   "outputs": [],
   "source": [
    "# build model"
   ]
  },
  {
   "cell_type": "code",
   "execution_count": 46,
   "metadata": {},
   "outputs": [],
   "source": [
    "model=keras.Sequential(name='model-1') # no space between ' and m"
   ]
  },
  {
   "cell_type": "code",
   "execution_count": 47,
   "metadata": {},
   "outputs": [],
   "source": [
    "model.add(layers.Dense(64,activation='relu',input_shape=(21,)))"
   ]
  },
  {
   "cell_type": "code",
   "execution_count": 48,
   "metadata": {},
   "outputs": [],
   "source": [
    "# 21種特徵,21個資料維度"
   ]
  },
  {
   "cell_type": "code",
   "execution_count": 49,
   "metadata": {},
   "outputs": [],
   "source": [
    "model.add(layers.Dense(64,activation='relu'))"
   ]
  },
  {
   "cell_type": "code",
   "execution_count": 50,
   "metadata": {},
   "outputs": [],
   "source": [
    "model.add(layers.Dense(1))"
   ]
  },
  {
   "cell_type": "code",
   "execution_count": 51,
   "metadata": {},
   "outputs": [
    {
     "name": "stdout",
     "output_type": "stream",
     "text": [
      "Model: \"model-1\"\n",
      "_________________________________________________________________\n",
      "Layer (type)                 Output Shape              Param #   \n",
      "=================================================================\n",
      "dense (Dense)                (None, 64)                1408      \n",
      "_________________________________________________________________\n",
      "dense_1 (Dense)              (None, 64)                4160      \n",
      "_________________________________________________________________\n",
      "dense_2 (Dense)              (None, 1)                 65        \n",
      "=================================================================\n",
      "Total params: 5,633\n",
      "Trainable params: 5,633\n",
      "Non-trainable params: 0\n",
      "_________________________________________________________________\n"
     ]
    }
   ],
   "source": [
    "model.summary() # 1408=21*64+64,4160=64*64+64,65=64*1+1"
   ]
  },
  {
   "cell_type": "code",
   "execution_count": 52,
   "metadata": {},
   "outputs": [],
   "source": [
    "model.compile(keras.optimizers.Adam(0.001),loss=keras.losses.MeanSquaredError(),metrics=[keras.metrics.MeanAbsoluteError()])"
   ]
  },
  {
   "cell_type": "code",
   "execution_count": 53,
   "metadata": {},
   "outputs": [],
   "source": [
    "model_dir='lab2-logs\\models'"
   ]
  },
  {
   "cell_type": "code",
   "execution_count": 54,
   "metadata": {},
   "outputs": [],
   "source": [
    "os.makedirs(model_dir)"
   ]
  },
  {
   "cell_type": "code",
   "execution_count": 55,
   "metadata": {},
   "outputs": [],
   "source": [
    "log_dir=os.path.join('lab2-logs','model-1')"
   ]
  },
  {
   "cell_type": "code",
   "execution_count": 56,
   "metadata": {},
   "outputs": [],
   "source": [
    "model_cbk=keras.callbacks.TensorBoard(log_dir=log_dir)"
   ]
  },
  {
   "cell_type": "code",
   "execution_count": 57,
   "metadata": {},
   "outputs": [],
   "source": [
    "model_mckp=keras.callbacks.ModelCheckpoint(model_dir + '\\Best-model-1.h5',\n",
    "                                           monitor='val_mean_absolute_error',\n",
    "                                           save_best_only=True,\n",
    "                                           mode='min')"
   ]
  },
  {
   "cell_type": "code",
   "execution_count": 58,
   "metadata": {
    "scrolled": false
   },
   "outputs": [
    {
     "name": "stdout",
     "output_type": "stream",
     "text": [
      "Epoch 1/300\n",
      "  1/203 [..............................] - ETA: 0s - loss: 1.1695 - mean_absolute_error: 0.6867WARNING:tensorflow:From C:\\Users\\asus\\tf2-gpu\\lib\\site-packages\\tensorflow\\python\\ops\\summary_ops_v2.py:1277: stop (from tensorflow.python.eager.profiler) is deprecated and will be removed after 2020-07-01.\n",
      "Instructions for updating:\n",
      "use `tf.profiler.experimental.stop` instead.\n",
      "  2/203 [..............................] - ETA: 16s - loss: 2.0129 - mean_absolute_error: 0.8139WARNING:tensorflow:Callbacks method `on_train_batch_begin` is slow compared to the batch time (batch time: 0.0040s vs `on_train_batch_begin` time: 0.0140s). Check your callbacks.\n",
      "WARNING:tensorflow:Callbacks method `on_train_batch_end` is slow compared to the batch time (batch time: 0.0040s vs `on_train_batch_end` time: 0.1509s). Check your callbacks.\n",
      "203/203 [==============================] - 1s 5ms/step - loss: 0.3364 - mean_absolute_error: 0.3414 - val_loss: 0.2129 - val_mean_absolute_error: 0.2870\n",
      "Epoch 2/300\n",
      "203/203 [==============================] - 1s 3ms/step - loss: 0.1968 - mean_absolute_error: 0.2776 - val_loss: 0.1854 - val_mean_absolute_error: 0.2632\n",
      "Epoch 3/300\n",
      "203/203 [==============================] - 1s 3ms/step - loss: 0.1746 - mean_absolute_error: 0.2590 - val_loss: 0.1876 - val_mean_absolute_error: 0.2625\n",
      "Epoch 4/300\n",
      "203/203 [==============================] - 1s 2ms/step - loss: 0.1560 - mean_absolute_error: 0.2443 - val_loss: 0.1664 - val_mean_absolute_error: 0.2447\n",
      "Epoch 5/300\n",
      "203/203 [==============================] - 0s 2ms/step - loss: 0.1409 - mean_absolute_error: 0.2342 - val_loss: 0.1595 - val_mean_absolute_error: 0.2374\n",
      "Epoch 6/300\n",
      "203/203 [==============================] - 1s 3ms/step - loss: 0.1345 - mean_absolute_error: 0.2277 - val_loss: 0.1535 - val_mean_absolute_error: 0.2354\n",
      "Epoch 7/300\n",
      "203/203 [==============================] - 1s 3ms/step - loss: 0.1289 - mean_absolute_error: 0.2245 - val_loss: 0.1561 - val_mean_absolute_error: 0.2316\n",
      "Epoch 8/300\n",
      "203/203 [==============================] - 0s 2ms/step - loss: 0.1180 - mean_absolute_error: 0.2146 - val_loss: 0.1571 - val_mean_absolute_error: 0.2330\n",
      "Epoch 9/300\n",
      "203/203 [==============================] - 0s 2ms/step - loss: 0.1134 - mean_absolute_error: 0.2104 - val_loss: 0.1528 - val_mean_absolute_error: 0.2301\n",
      "Epoch 10/300\n",
      "203/203 [==============================] - 0s 2ms/step - loss: 0.1119 - mean_absolute_error: 0.2084 - val_loss: 0.1339 - val_mean_absolute_error: 0.2269\n",
      "Epoch 11/300\n",
      "203/203 [==============================] - 0s 2ms/step - loss: 0.1051 - mean_absolute_error: 0.2039 - val_loss: 0.1449 - val_mean_absolute_error: 0.2264\n",
      "Epoch 12/300\n",
      "203/203 [==============================] - 0s 2ms/step - loss: 0.1008 - mean_absolute_error: 0.2016 - val_loss: 0.1411 - val_mean_absolute_error: 0.2205\n",
      "Epoch 13/300\n",
      "203/203 [==============================] - 1s 3ms/step - loss: 0.1001 - mean_absolute_error: 0.2018 - val_loss: 0.1317 - val_mean_absolute_error: 0.2146\n",
      "Epoch 14/300\n",
      "203/203 [==============================] - 1s 3ms/step - loss: 0.0937 - mean_absolute_error: 0.1961 - val_loss: 0.1507 - val_mean_absolute_error: 0.2164\n",
      "Epoch 15/300\n",
      "203/203 [==============================] - 1s 2ms/step - loss: 0.0949 - mean_absolute_error: 0.1969 - val_loss: 0.1390 - val_mean_absolute_error: 0.2163\n",
      "Epoch 16/300\n",
      "203/203 [==============================] - 1s 3ms/step - loss: 0.0908 - mean_absolute_error: 0.1930 - val_loss: 0.1317 - val_mean_absolute_error: 0.2106\n",
      "Epoch 17/300\n",
      "203/203 [==============================] - 1s 2ms/step - loss: 0.0882 - mean_absolute_error: 0.1911 - val_loss: 0.1272 - val_mean_absolute_error: 0.2111\n",
      "Epoch 18/300\n",
      "203/203 [==============================] - 1s 3ms/step - loss: 0.0850 - mean_absolute_error: 0.1870 - val_loss: 0.1338 - val_mean_absolute_error: 0.2126\n",
      "Epoch 19/300\n",
      "203/203 [==============================] - 1s 3ms/step - loss: 0.0848 - mean_absolute_error: 0.1888 - val_loss: 0.1262 - val_mean_absolute_error: 0.2156\n",
      "Epoch 20/300\n",
      "203/203 [==============================] - 0s 2ms/step - loss: 0.0820 - mean_absolute_error: 0.1862 - val_loss: 0.1310 - val_mean_absolute_error: 0.2118\n",
      "Epoch 21/300\n",
      "203/203 [==============================] - 0s 2ms/step - loss: 0.0812 - mean_absolute_error: 0.1856 - val_loss: 0.1200 - val_mean_absolute_error: 0.2068\n",
      "Epoch 22/300\n",
      "203/203 [==============================] - 0s 2ms/step - loss: 0.0799 - mean_absolute_error: 0.1851 - val_loss: 0.1290 - val_mean_absolute_error: 0.2118\n",
      "Epoch 23/300\n",
      "203/203 [==============================] - 1s 2ms/step - loss: 0.0776 - mean_absolute_error: 0.1831 - val_loss: 0.1310 - val_mean_absolute_error: 0.2211\n",
      "Epoch 24/300\n",
      "203/203 [==============================] - 0s 2ms/step - loss: 0.0770 - mean_absolute_error: 0.1813 - val_loss: 0.1238 - val_mean_absolute_error: 0.2093\n",
      "Epoch 25/300\n",
      "203/203 [==============================] - 0s 2ms/step - loss: 0.0769 - mean_absolute_error: 0.1818 - val_loss: 0.1195 - val_mean_absolute_error: 0.2143\n",
      "Epoch 26/300\n",
      "203/203 [==============================] - 0s 2ms/step - loss: 0.0743 - mean_absolute_error: 0.1795 - val_loss: 0.1221 - val_mean_absolute_error: 0.2086\n",
      "Epoch 27/300\n",
      "203/203 [==============================] - 0s 2ms/step - loss: 0.0723 - mean_absolute_error: 0.1785 - val_loss: 0.1282 - val_mean_absolute_error: 0.2090\n",
      "Epoch 28/300\n",
      "203/203 [==============================] - 0s 2ms/step - loss: 0.0722 - mean_absolute_error: 0.1788 - val_loss: 0.1170 - val_mean_absolute_error: 0.2060\n",
      "Epoch 29/300\n",
      "203/203 [==============================] - 0s 2ms/step - loss: 0.0702 - mean_absolute_error: 0.1764 - val_loss: 0.1325 - val_mean_absolute_error: 0.2184\n",
      "Epoch 30/300\n",
      "203/203 [==============================] - 0s 2ms/step - loss: 0.0690 - mean_absolute_error: 0.1743 - val_loss: 0.1380 - val_mean_absolute_error: 0.2140\n",
      "Epoch 31/300\n",
      "203/203 [==============================] - 0s 2ms/step - loss: 0.0677 - mean_absolute_error: 0.1750 - val_loss: 0.1321 - val_mean_absolute_error: 0.2078\n",
      "Epoch 32/300\n",
      "203/203 [==============================] - 0s 2ms/step - loss: 0.0677 - mean_absolute_error: 0.1735 - val_loss: 0.1291 - val_mean_absolute_error: 0.2079\n",
      "Epoch 33/300\n",
      "203/203 [==============================] - 0s 2ms/step - loss: 0.0642 - mean_absolute_error: 0.1695 - val_loss: 0.1318 - val_mean_absolute_error: 0.2077\n",
      "Epoch 34/300\n",
      "203/203 [==============================] - 0s 2ms/step - loss: 0.0682 - mean_absolute_error: 0.1745 - val_loss: 0.1238 - val_mean_absolute_error: 0.2051\n",
      "Epoch 35/300\n",
      "203/203 [==============================] - 0s 2ms/step - loss: 0.0632 - mean_absolute_error: 0.1702 - val_loss: 0.1258 - val_mean_absolute_error: 0.2184\n",
      "Epoch 36/300\n",
      "203/203 [==============================] - 0s 2ms/step - loss: 0.0632 - mean_absolute_error: 0.1689 - val_loss: 0.1466 - val_mean_absolute_error: 0.2121\n",
      "Epoch 37/300\n",
      "203/203 [==============================] - 0s 2ms/step - loss: 0.0638 - mean_absolute_error: 0.1707 - val_loss: 0.1368 - val_mean_absolute_error: 0.2123\n",
      "Epoch 38/300\n",
      "203/203 [==============================] - 1s 3ms/step - loss: 0.0604 - mean_absolute_error: 0.1664 - val_loss: 0.1236 - val_mean_absolute_error: 0.2066\n",
      "Epoch 39/300\n",
      "203/203 [==============================] - 0s 2ms/step - loss: 0.0614 - mean_absolute_error: 0.1682 - val_loss: 0.1367 - val_mean_absolute_error: 0.2124\n",
      "Epoch 40/300\n",
      "203/203 [==============================] - 0s 2ms/step - loss: 0.0594 - mean_absolute_error: 0.1662 - val_loss: 0.1417 - val_mean_absolute_error: 0.2166\n",
      "Epoch 41/300\n",
      "203/203 [==============================] - 0s 1ms/step - loss: 0.0621 - mean_absolute_error: 0.1674 - val_loss: 0.1400 - val_mean_absolute_error: 0.2216\n",
      "Epoch 42/300\n",
      "203/203 [==============================] - 0s 2ms/step - loss: 0.0583 - mean_absolute_error: 0.1658 - val_loss: 0.1245 - val_mean_absolute_error: 0.2089\n",
      "Epoch 43/300\n",
      "203/203 [==============================] - 1s 3ms/step - loss: 0.0579 - mean_absolute_error: 0.1650 - val_loss: 0.1319 - val_mean_absolute_error: 0.2102\n",
      "Epoch 44/300\n",
      "203/203 [==============================] - 0s 2ms/step - loss: 0.0582 - mean_absolute_error: 0.1638 - val_loss: 0.1348 - val_mean_absolute_error: 0.2196\n",
      "Epoch 45/300\n"
     ]
    },
    {
     "name": "stdout",
     "output_type": "stream",
     "text": [
      "203/203 [==============================] - 0s 2ms/step - loss: 0.0589 - mean_absolute_error: 0.1668 - val_loss: 0.1259 - val_mean_absolute_error: 0.2074\n",
      "Epoch 46/300\n",
      "203/203 [==============================] - 1s 3ms/step - loss: 0.0567 - mean_absolute_error: 0.1638 - val_loss: 0.1345 - val_mean_absolute_error: 0.2086\n",
      "Epoch 47/300\n",
      "203/203 [==============================] - 1s 3ms/step - loss: 0.0554 - mean_absolute_error: 0.1623 - val_loss: 0.1262 - val_mean_absolute_error: 0.2055\n",
      "Epoch 48/300\n",
      "203/203 [==============================] - 1s 3ms/step - loss: 0.0544 - mean_absolute_error: 0.1614 - val_loss: 0.1268 - val_mean_absolute_error: 0.2082\n",
      "Epoch 49/300\n",
      "203/203 [==============================] - 0s 2ms/step - loss: 0.0558 - mean_absolute_error: 0.1628 - val_loss: 0.1188 - val_mean_absolute_error: 0.2067\n",
      "Epoch 50/300\n",
      "203/203 [==============================] - 0s 2ms/step - loss: 0.0541 - mean_absolute_error: 0.1611 - val_loss: 0.1388 - val_mean_absolute_error: 0.2143\n",
      "Epoch 51/300\n",
      "203/203 [==============================] - 1s 2ms/step - loss: 0.0535 - mean_absolute_error: 0.1604 - val_loss: 0.1244 - val_mean_absolute_error: 0.2122\n",
      "Epoch 52/300\n",
      "203/203 [==============================] - 0s 2ms/step - loss: 0.0539 - mean_absolute_error: 0.1612 - val_loss: 0.1341 - val_mean_absolute_error: 0.2106\n",
      "Epoch 53/300\n",
      "203/203 [==============================] - 0s 2ms/step - loss: 0.0514 - mean_absolute_error: 0.1586 - val_loss: 0.1304 - val_mean_absolute_error: 0.2089\n",
      "Epoch 54/300\n",
      "203/203 [==============================] - 0s 2ms/step - loss: 0.0510 - mean_absolute_error: 0.1573 - val_loss: 0.1482 - val_mean_absolute_error: 0.2216\n",
      "Epoch 55/300\n",
      "203/203 [==============================] - 0s 1ms/step - loss: 0.0553 - mean_absolute_error: 0.1634 - val_loss: 0.1281 - val_mean_absolute_error: 0.2093\n",
      "Epoch 56/300\n",
      "203/203 [==============================] - 0s 1ms/step - loss: 0.0508 - mean_absolute_error: 0.1580 - val_loss: 0.1298 - val_mean_absolute_error: 0.2102\n",
      "Epoch 57/300\n",
      "203/203 [==============================] - 0s 1ms/step - loss: 0.0496 - mean_absolute_error: 0.1565 - val_loss: 0.1310 - val_mean_absolute_error: 0.2097\n",
      "Epoch 58/300\n",
      "203/203 [==============================] - 0s 2ms/step - loss: 0.0500 - mean_absolute_error: 0.1574 - val_loss: 0.1454 - val_mean_absolute_error: 0.2129\n",
      "Epoch 59/300\n",
      "203/203 [==============================] - 0s 1ms/step - loss: 0.0503 - mean_absolute_error: 0.1581 - val_loss: 0.1383 - val_mean_absolute_error: 0.2124\n",
      "Epoch 60/300\n",
      "203/203 [==============================] - 0s 1ms/step - loss: 0.0488 - mean_absolute_error: 0.1556 - val_loss: 0.1382 - val_mean_absolute_error: 0.2113\n",
      "Epoch 61/300\n",
      "203/203 [==============================] - 0s 2ms/step - loss: 0.0485 - mean_absolute_error: 0.1554 - val_loss: 0.1242 - val_mean_absolute_error: 0.2061\n",
      "Epoch 62/300\n",
      "203/203 [==============================] - 0s 1ms/step - loss: 0.0498 - mean_absolute_error: 0.1577 - val_loss: 0.1375 - val_mean_absolute_error: 0.2115\n",
      "Epoch 63/300\n",
      "203/203 [==============================] - 0s 1ms/step - loss: 0.0509 - mean_absolute_error: 0.1579 - val_loss: 0.1279 - val_mean_absolute_error: 0.2129\n",
      "Epoch 64/300\n",
      "203/203 [==============================] - 0s 1ms/step - loss: 0.0506 - mean_absolute_error: 0.1570 - val_loss: 0.1292 - val_mean_absolute_error: 0.2088\n",
      "Epoch 65/300\n",
      "203/203 [==============================] - 0s 1ms/step - loss: 0.0469 - mean_absolute_error: 0.1533 - val_loss: 0.1397 - val_mean_absolute_error: 0.2170\n",
      "Epoch 66/300\n",
      "203/203 [==============================] - 0s 1ms/step - loss: 0.0469 - mean_absolute_error: 0.1528 - val_loss: 0.1271 - val_mean_absolute_error: 0.2145\n",
      "Epoch 67/300\n",
      "203/203 [==============================] - 0s 1ms/step - loss: 0.0511 - mean_absolute_error: 0.1575 - val_loss: 0.1297 - val_mean_absolute_error: 0.2130\n",
      "Epoch 68/300\n",
      "203/203 [==============================] - 0s 2ms/step - loss: 0.0476 - mean_absolute_error: 0.1537 - val_loss: 0.1407 - val_mean_absolute_error: 0.2115\n",
      "Epoch 69/300\n",
      "203/203 [==============================] - 0s 1ms/step - loss: 0.0446 - mean_absolute_error: 0.1500 - val_loss: 0.1354 - val_mean_absolute_error: 0.2111\n",
      "Epoch 70/300\n",
      "203/203 [==============================] - 0s 1ms/step - loss: 0.0447 - mean_absolute_error: 0.1506 - val_loss: 0.1348 - val_mean_absolute_error: 0.2155\n",
      "Epoch 71/300\n",
      "203/203 [==============================] - 0s 1ms/step - loss: 0.0457 - mean_absolute_error: 0.1519 - val_loss: 0.1357 - val_mean_absolute_error: 0.2136\n",
      "Epoch 72/300\n",
      "203/203 [==============================] - 0s 2ms/step - loss: 0.0464 - mean_absolute_error: 0.1521 - val_loss: 0.1256 - val_mean_absolute_error: 0.2102\n",
      "Epoch 73/300\n",
      "203/203 [==============================] - 0s 1ms/step - loss: 0.0490 - mean_absolute_error: 0.1550 - val_loss: 0.1362 - val_mean_absolute_error: 0.2159\n",
      "Epoch 74/300\n",
      "203/203 [==============================] - 0s 1ms/step - loss: 0.0457 - mean_absolute_error: 0.1509 - val_loss: 0.1368 - val_mean_absolute_error: 0.2135\n",
      "Epoch 75/300\n",
      "203/203 [==============================] - 0s 2ms/step - loss: 0.0445 - mean_absolute_error: 0.1504 - val_loss: 0.1294 - val_mean_absolute_error: 0.2110\n",
      "Epoch 76/300\n",
      "203/203 [==============================] - 0s 2ms/step - loss: 0.0447 - mean_absolute_error: 0.1502 - val_loss: 0.1290 - val_mean_absolute_error: 0.2158\n",
      "Epoch 77/300\n",
      "203/203 [==============================] - 0s 2ms/step - loss: 0.0460 - mean_absolute_error: 0.1511 - val_loss: 0.1250 - val_mean_absolute_error: 0.2097\n",
      "Epoch 78/300\n",
      "203/203 [==============================] - 0s 2ms/step - loss: 0.0425 - mean_absolute_error: 0.1475 - val_loss: 0.1305 - val_mean_absolute_error: 0.2106\n",
      "Epoch 79/300\n",
      "203/203 [==============================] - 0s 1ms/step - loss: 0.0437 - mean_absolute_error: 0.1496 - val_loss: 0.1379 - val_mean_absolute_error: 0.2166\n",
      "Epoch 80/300\n",
      "203/203 [==============================] - 0s 1ms/step - loss: 0.0447 - mean_absolute_error: 0.1508 - val_loss: 0.1343 - val_mean_absolute_error: 0.2187\n",
      "Epoch 81/300\n",
      "203/203 [==============================] - 0s 1ms/step - loss: 0.0433 - mean_absolute_error: 0.1479 - val_loss: 0.1316 - val_mean_absolute_error: 0.2099\n",
      "Epoch 82/300\n",
      "203/203 [==============================] - 0s 1ms/step - loss: 0.0413 - mean_absolute_error: 0.1463 - val_loss: 0.1371 - val_mean_absolute_error: 0.2142\n",
      "Epoch 83/300\n",
      "203/203 [==============================] - 0s 1ms/step - loss: 0.0400 - mean_absolute_error: 0.1442 - val_loss: 0.1437 - val_mean_absolute_error: 0.2160\n",
      "Epoch 84/300\n",
      "203/203 [==============================] - 0s 1ms/step - loss: 0.0411 - mean_absolute_error: 0.1455 - val_loss: 0.1259 - val_mean_absolute_error: 0.2112\n",
      "Epoch 85/300\n",
      "203/203 [==============================] - 0s 2ms/step - loss: 0.0425 - mean_absolute_error: 0.1480 - val_loss: 0.1298 - val_mean_absolute_error: 0.2123\n",
      "Epoch 86/300\n",
      "203/203 [==============================] - 0s 1ms/step - loss: 0.0432 - mean_absolute_error: 0.1472 - val_loss: 0.1440 - val_mean_absolute_error: 0.2270\n",
      "Epoch 87/300\n",
      "203/203 [==============================] - 0s 2ms/step - loss: 0.0469 - mean_absolute_error: 0.1526 - val_loss: 0.1432 - val_mean_absolute_error: 0.2166\n",
      "Epoch 88/300\n",
      "203/203 [==============================] - 0s 1ms/step - loss: 0.0471 - mean_absolute_error: 0.1526 - val_loss: 0.1335 - val_mean_absolute_error: 0.2132\n",
      "Epoch 89/300\n",
      "203/203 [==============================] - 0s 1ms/step - loss: 0.0430 - mean_absolute_error: 0.1481 - val_loss: 0.1391 - val_mean_absolute_error: 0.2164\n",
      "Epoch 90/300\n",
      "203/203 [==============================] - 0s 1ms/step - loss: 0.0414 - mean_absolute_error: 0.1465 - val_loss: 0.1343 - val_mean_absolute_error: 0.2147\n",
      "Epoch 91/300\n",
      "203/203 [==============================] - 0s 2ms/step - loss: 0.0386 - mean_absolute_error: 0.1423 - val_loss: 0.1393 - val_mean_absolute_error: 0.2138\n",
      "Epoch 92/300\n",
      "203/203 [==============================] - 0s 1ms/step - loss: 0.0389 - mean_absolute_error: 0.1428 - val_loss: 0.1423 - val_mean_absolute_error: 0.2175\n",
      "Epoch 93/300\n",
      "203/203 [==============================] - 0s 1ms/step - loss: 0.0402 - mean_absolute_error: 0.1446 - val_loss: 0.1396 - val_mean_absolute_error: 0.2150\n",
      "Epoch 94/300\n"
     ]
    },
    {
     "name": "stdout",
     "output_type": "stream",
     "text": [
      "203/203 [==============================] - 0s 2ms/step - loss: 0.0398 - mean_absolute_error: 0.1442 - val_loss: 0.1394 - val_mean_absolute_error: 0.2149\n",
      "Epoch 95/300\n",
      "203/203 [==============================] - 0s 1ms/step - loss: 0.0443 - mean_absolute_error: 0.1494 - val_loss: 0.1416 - val_mean_absolute_error: 0.2169\n",
      "Epoch 96/300\n",
      "203/203 [==============================] - 0s 1ms/step - loss: 0.0424 - mean_absolute_error: 0.1464 - val_loss: 0.1320 - val_mean_absolute_error: 0.2146\n",
      "Epoch 97/300\n",
      "203/203 [==============================] - 0s 1ms/step - loss: 0.0399 - mean_absolute_error: 0.1437 - val_loss: 0.1379 - val_mean_absolute_error: 0.2198\n",
      "Epoch 98/300\n",
      "203/203 [==============================] - 0s 1ms/step - loss: 0.0390 - mean_absolute_error: 0.1426 - val_loss: 0.1417 - val_mean_absolute_error: 0.2157\n",
      "Epoch 99/300\n",
      "203/203 [==============================] - 0s 1ms/step - loss: 0.0394 - mean_absolute_error: 0.1435 - val_loss: 0.1406 - val_mean_absolute_error: 0.2175\n",
      "Epoch 100/300\n",
      "203/203 [==============================] - 0s 1ms/step - loss: 0.0395 - mean_absolute_error: 0.1435 - val_loss: 0.1344 - val_mean_absolute_error: 0.2193\n",
      "Epoch 101/300\n",
      "203/203 [==============================] - 0s 1ms/step - loss: 0.0393 - mean_absolute_error: 0.1432 - val_loss: 0.1484 - val_mean_absolute_error: 0.2195\n",
      "Epoch 102/300\n",
      "203/203 [==============================] - 0s 1ms/step - loss: 0.0458 - mean_absolute_error: 0.1516 - val_loss: 0.1373 - val_mean_absolute_error: 0.2157\n",
      "Epoch 103/300\n",
      "203/203 [==============================] - 0s 1ms/step - loss: 0.0415 - mean_absolute_error: 0.1447 - val_loss: 0.1376 - val_mean_absolute_error: 0.2196\n",
      "Epoch 104/300\n",
      "203/203 [==============================] - 0s 1ms/step - loss: 0.0372 - mean_absolute_error: 0.1395 - val_loss: 0.1337 - val_mean_absolute_error: 0.2125\n",
      "Epoch 105/300\n",
      "203/203 [==============================] - 0s 1ms/step - loss: 0.0364 - mean_absolute_error: 0.1386 - val_loss: 0.1472 - val_mean_absolute_error: 0.2205\n",
      "Epoch 106/300\n",
      "203/203 [==============================] - 0s 1ms/step - loss: 0.0386 - mean_absolute_error: 0.1427 - val_loss: 0.1358 - val_mean_absolute_error: 0.2132\n",
      "Epoch 107/300\n",
      "203/203 [==============================] - 0s 1ms/step - loss: 0.0395 - mean_absolute_error: 0.1426 - val_loss: 0.1472 - val_mean_absolute_error: 0.2195\n",
      "Epoch 108/300\n",
      "203/203 [==============================] - 0s 2ms/step - loss: 0.0371 - mean_absolute_error: 0.1406 - val_loss: 0.1486 - val_mean_absolute_error: 0.2175\n",
      "Epoch 109/300\n",
      "203/203 [==============================] - 0s 1ms/step - loss: 0.0358 - mean_absolute_error: 0.1382 - val_loss: 0.1391 - val_mean_absolute_error: 0.2165\n",
      "Epoch 110/300\n",
      "203/203 [==============================] - 0s 1ms/step - loss: 0.0369 - mean_absolute_error: 0.1396 - val_loss: 0.1344 - val_mean_absolute_error: 0.2193\n",
      "Epoch 111/300\n",
      "203/203 [==============================] - 0s 1ms/step - loss: 0.0370 - mean_absolute_error: 0.1391 - val_loss: 0.1282 - val_mean_absolute_error: 0.2125\n",
      "Epoch 112/300\n",
      "203/203 [==============================] - 0s 1ms/step - loss: 0.0388 - mean_absolute_error: 0.1422 - val_loss: 0.1329 - val_mean_absolute_error: 0.2251\n",
      "Epoch 113/300\n",
      "203/203 [==============================] - 0s 1ms/step - loss: 0.0390 - mean_absolute_error: 0.1429 - val_loss: 0.1334 - val_mean_absolute_error: 0.2140\n",
      "Epoch 114/300\n",
      "203/203 [==============================] - 0s 1ms/step - loss: 0.0382 - mean_absolute_error: 0.1414 - val_loss: 0.1387 - val_mean_absolute_error: 0.2165\n",
      "Epoch 115/300\n",
      "203/203 [==============================] - 0s 2ms/step - loss: 0.0363 - mean_absolute_error: 0.1392 - val_loss: 0.1432 - val_mean_absolute_error: 0.2167\n",
      "Epoch 116/300\n",
      "203/203 [==============================] - 0s 2ms/step - loss: 0.0362 - mean_absolute_error: 0.1381 - val_loss: 0.1443 - val_mean_absolute_error: 0.2182\n",
      "Epoch 117/300\n",
      "203/203 [==============================] - 0s 2ms/step - loss: 0.0385 - mean_absolute_error: 0.1419 - val_loss: 0.1417 - val_mean_absolute_error: 0.2178\n",
      "Epoch 118/300\n",
      "203/203 [==============================] - 0s 2ms/step - loss: 0.0387 - mean_absolute_error: 0.1412 - val_loss: 0.1458 - val_mean_absolute_error: 0.2190\n",
      "Epoch 119/300\n",
      "203/203 [==============================] - 0s 1ms/step - loss: 0.0372 - mean_absolute_error: 0.1401 - val_loss: 0.1365 - val_mean_absolute_error: 0.2231\n",
      "Epoch 120/300\n",
      "203/203 [==============================] - 0s 1ms/step - loss: 0.0344 - mean_absolute_error: 0.1356 - val_loss: 0.1383 - val_mean_absolute_error: 0.2183\n",
      "Epoch 121/300\n",
      "203/203 [==============================] - 0s 1ms/step - loss: 0.0364 - mean_absolute_error: 0.1391 - val_loss: 0.1384 - val_mean_absolute_error: 0.2154\n",
      "Epoch 122/300\n",
      "203/203 [==============================] - 0s 1ms/step - loss: 0.0371 - mean_absolute_error: 0.1394 - val_loss: 0.1322 - val_mean_absolute_error: 0.2155\n",
      "Epoch 123/300\n",
      "203/203 [==============================] - 0s 1ms/step - loss: 0.0360 - mean_absolute_error: 0.1387 - val_loss: 0.1556 - val_mean_absolute_error: 0.2192\n",
      "Epoch 124/300\n",
      "203/203 [==============================] - 0s 2ms/step - loss: 0.0375 - mean_absolute_error: 0.1390 - val_loss: 0.1344 - val_mean_absolute_error: 0.2136\n",
      "Epoch 125/300\n",
      "203/203 [==============================] - 0s 1ms/step - loss: 0.0364 - mean_absolute_error: 0.1387 - val_loss: 0.1401 - val_mean_absolute_error: 0.2156\n",
      "Epoch 126/300\n",
      "203/203 [==============================] - 0s 2ms/step - loss: 0.0346 - mean_absolute_error: 0.1363 - val_loss: 0.1455 - val_mean_absolute_error: 0.2188\n",
      "Epoch 127/300\n",
      "203/203 [==============================] - 0s 2ms/step - loss: 0.0347 - mean_absolute_error: 0.1365 - val_loss: 0.1493 - val_mean_absolute_error: 0.2177\n",
      "Epoch 128/300\n",
      "203/203 [==============================] - 0s 2ms/step - loss: 0.0370 - mean_absolute_error: 0.1397 - val_loss: 0.1478 - val_mean_absolute_error: 0.2193\n",
      "Epoch 129/300\n",
      "203/203 [==============================] - 0s 2ms/step - loss: 0.0374 - mean_absolute_error: 0.1397 - val_loss: 0.1333 - val_mean_absolute_error: 0.2150\n",
      "Epoch 130/300\n",
      "203/203 [==============================] - 0s 1ms/step - loss: 0.0367 - mean_absolute_error: 0.1398 - val_loss: 0.1385 - val_mean_absolute_error: 0.2174\n",
      "Epoch 131/300\n",
      "203/203 [==============================] - 0s 2ms/step - loss: 0.0336 - mean_absolute_error: 0.1343 - val_loss: 0.1469 - val_mean_absolute_error: 0.2170\n",
      "Epoch 132/300\n",
      "203/203 [==============================] - 0s 2ms/step - loss: 0.0340 - mean_absolute_error: 0.1360 - val_loss: 0.1285 - val_mean_absolute_error: 0.2140\n",
      "Epoch 133/300\n",
      "203/203 [==============================] - 0s 1ms/step - loss: 0.0331 - mean_absolute_error: 0.1335 - val_loss: 0.1434 - val_mean_absolute_error: 0.2170\n",
      "Epoch 134/300\n",
      "203/203 [==============================] - 0s 2ms/step - loss: 0.0337 - mean_absolute_error: 0.1352 - val_loss: 0.1432 - val_mean_absolute_error: 0.2190\n",
      "Epoch 135/300\n",
      "203/203 [==============================] - 0s 1ms/step - loss: 0.0357 - mean_absolute_error: 0.1366 - val_loss: 0.1420 - val_mean_absolute_error: 0.2173\n",
      "Epoch 136/300\n",
      "203/203 [==============================] - 0s 1ms/step - loss: 0.0337 - mean_absolute_error: 0.1350 - val_loss: 0.1377 - val_mean_absolute_error: 0.2177\n",
      "Epoch 137/300\n",
      "203/203 [==============================] - 0s 2ms/step - loss: 0.0351 - mean_absolute_error: 0.1366 - val_loss: 0.1427 - val_mean_absolute_error: 0.2173\n",
      "Epoch 138/300\n",
      "203/203 [==============================] - 0s 1ms/step - loss: 0.0352 - mean_absolute_error: 0.1363 - val_loss: 0.1343 - val_mean_absolute_error: 0.2167\n",
      "Epoch 139/300\n",
      "203/203 [==============================] - 0s 2ms/step - loss: 0.0333 - mean_absolute_error: 0.1336 - val_loss: 0.1416 - val_mean_absolute_error: 0.2174\n",
      "Epoch 140/300\n",
      "203/203 [==============================] - 0s 2ms/step - loss: 0.0403 - mean_absolute_error: 0.1447 - val_loss: 0.1320 - val_mean_absolute_error: 0.2154\n",
      "Epoch 141/300\n",
      "203/203 [==============================] - 0s 1ms/step - loss: 0.0416 - mean_absolute_error: 0.1446 - val_loss: 0.1369 - val_mean_absolute_error: 0.2185\n",
      "Epoch 142/300\n",
      "203/203 [==============================] - 0s 1ms/step - loss: 0.0346 - mean_absolute_error: 0.1355 - val_loss: 0.1331 - val_mean_absolute_error: 0.2138\n",
      "Epoch 143/300\n"
     ]
    },
    {
     "name": "stdout",
     "output_type": "stream",
     "text": [
      "203/203 [==============================] - 0s 1ms/step - loss: 0.0346 - mean_absolute_error: 0.1358 - val_loss: 0.1386 - val_mean_absolute_error: 0.2163\n",
      "Epoch 144/300\n",
      "203/203 [==============================] - 0s 1ms/step - loss: 0.0343 - mean_absolute_error: 0.1348 - val_loss: 0.1369 - val_mean_absolute_error: 0.2148\n",
      "Epoch 145/300\n",
      "203/203 [==============================] - 0s 1ms/step - loss: 0.0350 - mean_absolute_error: 0.1346 - val_loss: 0.1369 - val_mean_absolute_error: 0.2196\n",
      "Epoch 146/300\n",
      "203/203 [==============================] - 0s 1ms/step - loss: 0.0337 - mean_absolute_error: 0.1343 - val_loss: 0.1276 - val_mean_absolute_error: 0.2125\n",
      "Epoch 147/300\n",
      "203/203 [==============================] - 0s 1ms/step - loss: 0.0321 - mean_absolute_error: 0.1315 - val_loss: 0.1387 - val_mean_absolute_error: 0.2155\n",
      "Epoch 148/300\n",
      "203/203 [==============================] - 0s 1ms/step - loss: 0.0310 - mean_absolute_error: 0.1302 - val_loss: 0.1334 - val_mean_absolute_error: 0.2147\n",
      "Epoch 149/300\n",
      "203/203 [==============================] - 0s 2ms/step - loss: 0.0312 - mean_absolute_error: 0.1303 - val_loss: 0.1393 - val_mean_absolute_error: 0.2173\n",
      "Epoch 150/300\n",
      "203/203 [==============================] - 0s 1ms/step - loss: 0.0315 - mean_absolute_error: 0.1318 - val_loss: 0.1417 - val_mean_absolute_error: 0.2160\n",
      "Epoch 151/300\n",
      "203/203 [==============================] - 0s 1ms/step - loss: 0.0330 - mean_absolute_error: 0.1338 - val_loss: 0.1427 - val_mean_absolute_error: 0.2227\n",
      "Epoch 152/300\n",
      "203/203 [==============================] - 0s 2ms/step - loss: 0.0328 - mean_absolute_error: 0.1330 - val_loss: 0.1409 - val_mean_absolute_error: 0.2195\n",
      "Epoch 153/300\n",
      "203/203 [==============================] - 0s 1ms/step - loss: 0.0361 - mean_absolute_error: 0.1373 - val_loss: 0.1344 - val_mean_absolute_error: 0.2149\n",
      "Epoch 154/300\n",
      "203/203 [==============================] - 0s 1ms/step - loss: 0.0368 - mean_absolute_error: 0.1370 - val_loss: 0.1530 - val_mean_absolute_error: 0.2209\n",
      "Epoch 155/300\n",
      "203/203 [==============================] - 0s 1ms/step - loss: 0.0337 - mean_absolute_error: 0.1342 - val_loss: 0.1391 - val_mean_absolute_error: 0.2194\n",
      "Epoch 156/300\n",
      "203/203 [==============================] - 0s 2ms/step - loss: 0.0318 - mean_absolute_error: 0.1317 - val_loss: 0.1356 - val_mean_absolute_error: 0.2161\n",
      "Epoch 157/300\n",
      "203/203 [==============================] - 0s 1ms/step - loss: 0.0318 - mean_absolute_error: 0.1318 - val_loss: 0.1341 - val_mean_absolute_error: 0.2156\n",
      "Epoch 158/300\n",
      "203/203 [==============================] - 0s 1ms/step - loss: 0.0307 - mean_absolute_error: 0.1292 - val_loss: 0.1466 - val_mean_absolute_error: 0.2181\n",
      "Epoch 159/300\n",
      "203/203 [==============================] - 0s 1ms/step - loss: 0.0308 - mean_absolute_error: 0.1298 - val_loss: 0.1301 - val_mean_absolute_error: 0.2158\n",
      "Epoch 160/300\n",
      "203/203 [==============================] - 0s 1ms/step - loss: 0.0336 - mean_absolute_error: 0.1336 - val_loss: 0.1416 - val_mean_absolute_error: 0.2181\n",
      "Epoch 161/300\n",
      "203/203 [==============================] - 0s 1ms/step - loss: 0.0322 - mean_absolute_error: 0.1322 - val_loss: 0.1470 - val_mean_absolute_error: 0.2223\n",
      "Epoch 162/300\n",
      "203/203 [==============================] - 0s 1ms/step - loss: 0.0318 - mean_absolute_error: 0.1316 - val_loss: 0.1352 - val_mean_absolute_error: 0.2170\n",
      "Epoch 163/300\n",
      "203/203 [==============================] - 0s 2ms/step - loss: 0.0321 - mean_absolute_error: 0.1321 - val_loss: 0.1430 - val_mean_absolute_error: 0.2200\n",
      "Epoch 164/300\n",
      "203/203 [==============================] - 0s 1ms/step - loss: 0.0322 - mean_absolute_error: 0.1326 - val_loss: 0.1376 - val_mean_absolute_error: 0.2266\n",
      "Epoch 165/300\n",
      "203/203 [==============================] - 0s 1ms/step - loss: 0.0334 - mean_absolute_error: 0.1328 - val_loss: 0.1386 - val_mean_absolute_error: 0.2187\n",
      "Epoch 166/300\n",
      "203/203 [==============================] - 0s 1ms/step - loss: 0.0331 - mean_absolute_error: 0.1332 - val_loss: 0.1427 - val_mean_absolute_error: 0.2227\n",
      "Epoch 167/300\n",
      "203/203 [==============================] - 0s 1ms/step - loss: 0.0307 - mean_absolute_error: 0.1298 - val_loss: 0.1350 - val_mean_absolute_error: 0.2199\n",
      "Epoch 168/300\n",
      "203/203 [==============================] - 0s 1ms/step - loss: 0.0308 - mean_absolute_error: 0.1295 - val_loss: 0.1516 - val_mean_absolute_error: 0.2227\n",
      "Epoch 169/300\n",
      "203/203 [==============================] - 0s 2ms/step - loss: 0.0324 - mean_absolute_error: 0.1312 - val_loss: 0.1398 - val_mean_absolute_error: 0.2191\n",
      "Epoch 170/300\n",
      "203/203 [==============================] - 0s 1ms/step - loss: 0.0303 - mean_absolute_error: 0.1286 - val_loss: 0.1354 - val_mean_absolute_error: 0.2185\n",
      "Epoch 171/300\n",
      "203/203 [==============================] - 0s 1ms/step - loss: 0.0327 - mean_absolute_error: 0.1325 - val_loss: 0.1388 - val_mean_absolute_error: 0.2204\n",
      "Epoch 172/300\n",
      "203/203 [==============================] - 0s 1ms/step - loss: 0.0335 - mean_absolute_error: 0.1338 - val_loss: 0.1364 - val_mean_absolute_error: 0.2173\n",
      "Epoch 173/300\n",
      "203/203 [==============================] - 0s 1ms/step - loss: 0.0307 - mean_absolute_error: 0.1297 - val_loss: 0.1449 - val_mean_absolute_error: 0.2225\n",
      "Epoch 174/300\n",
      "203/203 [==============================] - 0s 1ms/step - loss: 0.0323 - mean_absolute_error: 0.1320 - val_loss: 0.1335 - val_mean_absolute_error: 0.2162\n",
      "Epoch 175/300\n",
      "203/203 [==============================] - 0s 1ms/step - loss: 0.0311 - mean_absolute_error: 0.1292 - val_loss: 0.1431 - val_mean_absolute_error: 0.2208\n",
      "Epoch 176/300\n",
      "203/203 [==============================] - 0s 1ms/step - loss: 0.0312 - mean_absolute_error: 0.1300 - val_loss: 0.1404 - val_mean_absolute_error: 0.2178\n",
      "Epoch 177/300\n",
      "203/203 [==============================] - 0s 1ms/step - loss: 0.0293 - mean_absolute_error: 0.1273 - val_loss: 0.1396 - val_mean_absolute_error: 0.2178\n",
      "Epoch 178/300\n",
      "203/203 [==============================] - 0s 1ms/step - loss: 0.0293 - mean_absolute_error: 0.1274 - val_loss: 0.1366 - val_mean_absolute_error: 0.2225\n",
      "Epoch 179/300\n",
      "203/203 [==============================] - 0s 1ms/step - loss: 0.0300 - mean_absolute_error: 0.1288 - val_loss: 0.1387 - val_mean_absolute_error: 0.2173\n",
      "Epoch 180/300\n",
      "203/203 [==============================] - 0s 2ms/step - loss: 0.0307 - mean_absolute_error: 0.1298 - val_loss: 0.1499 - val_mean_absolute_error: 0.2207\n",
      "Epoch 181/300\n",
      "203/203 [==============================] - 0s 1ms/step - loss: 0.0306 - mean_absolute_error: 0.1300 - val_loss: 0.1376 - val_mean_absolute_error: 0.2189\n",
      "Epoch 182/300\n",
      "203/203 [==============================] - 0s 1ms/step - loss: 0.0324 - mean_absolute_error: 0.1316 - val_loss: 0.1351 - val_mean_absolute_error: 0.2172\n",
      "Epoch 183/300\n",
      "203/203 [==============================] - 0s 2ms/step - loss: 0.0325 - mean_absolute_error: 0.1318 - val_loss: 0.1459 - val_mean_absolute_error: 0.2198\n",
      "Epoch 184/300\n",
      "203/203 [==============================] - 0s 1ms/step - loss: 0.0379 - mean_absolute_error: 0.1382 - val_loss: 0.1453 - val_mean_absolute_error: 0.2207\n",
      "Epoch 185/300\n",
      "203/203 [==============================] - 0s 2ms/step - loss: 0.0307 - mean_absolute_error: 0.1290 - val_loss: 0.1459 - val_mean_absolute_error: 0.2272\n",
      "Epoch 186/300\n",
      "203/203 [==============================] - 0s 1ms/step - loss: 0.0312 - mean_absolute_error: 0.1301 - val_loss: 0.1442 - val_mean_absolute_error: 0.2218\n",
      "Epoch 187/300\n",
      "203/203 [==============================] - 0s 2ms/step - loss: 0.0325 - mean_absolute_error: 0.1313 - val_loss: 0.1416 - val_mean_absolute_error: 0.2203\n",
      "Epoch 188/300\n",
      "203/203 [==============================] - 0s 2ms/step - loss: 0.0311 - mean_absolute_error: 0.1297 - val_loss: 0.1395 - val_mean_absolute_error: 0.2219\n",
      "Epoch 189/300\n",
      "203/203 [==============================] - 0s 2ms/step - loss: 0.0296 - mean_absolute_error: 0.1269 - val_loss: 0.1375 - val_mean_absolute_error: 0.2224\n",
      "Epoch 190/300\n",
      "203/203 [==============================] - 0s 2ms/step - loss: 0.0293 - mean_absolute_error: 0.1273 - val_loss: 0.1379 - val_mean_absolute_error: 0.2168\n",
      "Epoch 191/300\n",
      "203/203 [==============================] - 0s 1ms/step - loss: 0.0281 - mean_absolute_error: 0.1251 - val_loss: 0.1371 - val_mean_absolute_error: 0.2184\n",
      "Epoch 192/300\n"
     ]
    },
    {
     "name": "stdout",
     "output_type": "stream",
     "text": [
      "203/203 [==============================] - 0s 2ms/step - loss: 0.0289 - mean_absolute_error: 0.1262 - val_loss: 0.1451 - val_mean_absolute_error: 0.2193\n",
      "Epoch 193/300\n",
      "203/203 [==============================] - 0s 2ms/step - loss: 0.0290 - mean_absolute_error: 0.1268 - val_loss: 0.1446 - val_mean_absolute_error: 0.2188\n",
      "Epoch 194/300\n",
      "203/203 [==============================] - 0s 1ms/step - loss: 0.0281 - mean_absolute_error: 0.1248 - val_loss: 0.1382 - val_mean_absolute_error: 0.2180\n",
      "Epoch 195/300\n",
      "203/203 [==============================] - 0s 2ms/step - loss: 0.0294 - mean_absolute_error: 0.1271 - val_loss: 0.1344 - val_mean_absolute_error: 0.2171\n",
      "Epoch 196/300\n",
      "203/203 [==============================] - 0s 1ms/step - loss: 0.0373 - mean_absolute_error: 0.1369 - val_loss: 0.1400 - val_mean_absolute_error: 0.2195\n",
      "Epoch 197/300\n",
      "203/203 [==============================] - 0s 1ms/step - loss: 0.0317 - mean_absolute_error: 0.1302 - val_loss: 0.1472 - val_mean_absolute_error: 0.2187\n",
      "Epoch 198/300\n",
      "203/203 [==============================] - 0s 1ms/step - loss: 0.0289 - mean_absolute_error: 0.1261 - val_loss: 0.1339 - val_mean_absolute_error: 0.2202\n",
      "Epoch 199/300\n",
      "203/203 [==============================] - 0s 1ms/step - loss: 0.0294 - mean_absolute_error: 0.1278 - val_loss: 0.1486 - val_mean_absolute_error: 0.2249\n",
      "Epoch 200/300\n",
      "203/203 [==============================] - 0s 2ms/step - loss: 0.0287 - mean_absolute_error: 0.1264 - val_loss: 0.1438 - val_mean_absolute_error: 0.2195\n",
      "Epoch 201/300\n",
      "203/203 [==============================] - 0s 1ms/step - loss: 0.0292 - mean_absolute_error: 0.1264 - val_loss: 0.1582 - val_mean_absolute_error: 0.2217\n",
      "Epoch 202/300\n",
      "203/203 [==============================] - 0s 2ms/step - loss: 0.0288 - mean_absolute_error: 0.1258 - val_loss: 0.1428 - val_mean_absolute_error: 0.2229\n",
      "Epoch 203/300\n",
      "203/203 [==============================] - 0s 1ms/step - loss: 0.0289 - mean_absolute_error: 0.1255 - val_loss: 0.1466 - val_mean_absolute_error: 0.2187\n",
      "Epoch 204/300\n",
      "203/203 [==============================] - 0s 1ms/step - loss: 0.0303 - mean_absolute_error: 0.1287 - val_loss: 0.1418 - val_mean_absolute_error: 0.2228\n",
      "Epoch 205/300\n",
      "203/203 [==============================] - 0s 1ms/step - loss: 0.0286 - mean_absolute_error: 0.1256 - val_loss: 0.1479 - val_mean_absolute_error: 0.2203\n",
      "Epoch 206/300\n",
      "203/203 [==============================] - 0s 1ms/step - loss: 0.0279 - mean_absolute_error: 0.1242 - val_loss: 0.1382 - val_mean_absolute_error: 0.2207\n",
      "Epoch 207/300\n",
      "203/203 [==============================] - 0s 2ms/step - loss: 0.0315 - mean_absolute_error: 0.1310 - val_loss: 0.1430 - val_mean_absolute_error: 0.2236\n",
      "Epoch 208/300\n",
      "203/203 [==============================] - 0s 1ms/step - loss: 0.0282 - mean_absolute_error: 0.1250 - val_loss: 0.1344 - val_mean_absolute_error: 0.2184\n",
      "Epoch 209/300\n",
      "203/203 [==============================] - 0s 2ms/step - loss: 0.0282 - mean_absolute_error: 0.1257 - val_loss: 0.1431 - val_mean_absolute_error: 0.2195\n",
      "Epoch 210/300\n",
      "203/203 [==============================] - 0s 1ms/step - loss: 0.0296 - mean_absolute_error: 0.1271 - val_loss: 0.1367 - val_mean_absolute_error: 0.2190\n",
      "Epoch 211/300\n",
      "203/203 [==============================] - 0s 1ms/step - loss: 0.0293 - mean_absolute_error: 0.1272 - val_loss: 0.1415 - val_mean_absolute_error: 0.2180\n",
      "Epoch 212/300\n",
      "203/203 [==============================] - 0s 1ms/step - loss: 0.0282 - mean_absolute_error: 0.1243 - val_loss: 0.1414 - val_mean_absolute_error: 0.2210\n",
      "Epoch 213/300\n",
      "203/203 [==============================] - 0s 2ms/step - loss: 0.0297 - mean_absolute_error: 0.1280 - val_loss: 0.1382 - val_mean_absolute_error: 0.2196\n",
      "Epoch 214/300\n",
      "203/203 [==============================] - 0s 2ms/step - loss: 0.0333 - mean_absolute_error: 0.1316 - val_loss: 0.1366 - val_mean_absolute_error: 0.2201\n",
      "Epoch 215/300\n",
      "203/203 [==============================] - 0s 1ms/step - loss: 0.0271 - mean_absolute_error: 0.1236 - val_loss: 0.1363 - val_mean_absolute_error: 0.2177\n",
      "Epoch 216/300\n",
      "203/203 [==============================] - 0s 1ms/step - loss: 0.0278 - mean_absolute_error: 0.1242 - val_loss: 0.1378 - val_mean_absolute_error: 0.2189\n",
      "Epoch 217/300\n",
      "203/203 [==============================] - 0s 1ms/step - loss: 0.0289 - mean_absolute_error: 0.1266 - val_loss: 0.1375 - val_mean_absolute_error: 0.2180\n",
      "Epoch 218/300\n",
      "203/203 [==============================] - 0s 1ms/step - loss: 0.0276 - mean_absolute_error: 0.1242 - val_loss: 0.1419 - val_mean_absolute_error: 0.2188\n",
      "Epoch 219/300\n",
      "203/203 [==============================] - 0s 1ms/step - loss: 0.0286 - mean_absolute_error: 0.1249 - val_loss: 0.1465 - val_mean_absolute_error: 0.2247\n",
      "Epoch 220/300\n",
      "203/203 [==============================] - 0s 2ms/step - loss: 0.0298 - mean_absolute_error: 0.1277 - val_loss: 0.1512 - val_mean_absolute_error: 0.2232\n",
      "Epoch 221/300\n",
      "203/203 [==============================] - 0s 1ms/step - loss: 0.0295 - mean_absolute_error: 0.1269 - val_loss: 0.1392 - val_mean_absolute_error: 0.2171\n",
      "Epoch 222/300\n",
      "203/203 [==============================] - 0s 1ms/step - loss: 0.0316 - mean_absolute_error: 0.1279 - val_loss: 0.1355 - val_mean_absolute_error: 0.2181\n",
      "Epoch 223/300\n",
      "203/203 [==============================] - 0s 2ms/step - loss: 0.0322 - mean_absolute_error: 0.1304 - val_loss: 0.1439 - val_mean_absolute_error: 0.2196\n",
      "Epoch 224/300\n",
      "203/203 [==============================] - 0s 1ms/step - loss: 0.0329 - mean_absolute_error: 0.1304 - val_loss: 0.1362 - val_mean_absolute_error: 0.2164\n",
      "Epoch 225/300\n",
      "203/203 [==============================] - 0s 2ms/step - loss: 0.0284 - mean_absolute_error: 0.1242 - val_loss: 0.1370 - val_mean_absolute_error: 0.2156\n",
      "Epoch 226/300\n",
      "203/203 [==============================] - 0s 1ms/step - loss: 0.0271 - mean_absolute_error: 0.1230 - val_loss: 0.1412 - val_mean_absolute_error: 0.2207\n",
      "Epoch 227/300\n",
      "203/203 [==============================] - 0s 2ms/step - loss: 0.0268 - mean_absolute_error: 0.1223 - val_loss: 0.1390 - val_mean_absolute_error: 0.2205\n",
      "Epoch 228/300\n",
      "203/203 [==============================] - 0s 1ms/step - loss: 0.0290 - mean_absolute_error: 0.1264 - val_loss: 0.1389 - val_mean_absolute_error: 0.2187\n",
      "Epoch 229/300\n",
      "203/203 [==============================] - 0s 1ms/step - loss: 0.0274 - mean_absolute_error: 0.1233 - val_loss: 0.1353 - val_mean_absolute_error: 0.2178\n",
      "Epoch 230/300\n",
      "203/203 [==============================] - 0s 2ms/step - loss: 0.0274 - mean_absolute_error: 0.1232 - val_loss: 0.1434 - val_mean_absolute_error: 0.2191\n",
      "Epoch 231/300\n",
      "203/203 [==============================] - 0s 1ms/step - loss: 0.0272 - mean_absolute_error: 0.1229 - val_loss: 0.1457 - val_mean_absolute_error: 0.2268\n",
      "Epoch 232/300\n",
      "203/203 [==============================] - 0s 2ms/step - loss: 0.0281 - mean_absolute_error: 0.1245 - val_loss: 0.1426 - val_mean_absolute_error: 0.2206\n",
      "Epoch 233/300\n",
      "203/203 [==============================] - 0s 2ms/step - loss: 0.0275 - mean_absolute_error: 0.1237 - val_loss: 0.1485 - val_mean_absolute_error: 0.2221\n",
      "Epoch 234/300\n",
      "203/203 [==============================] - 0s 2ms/step - loss: 0.0293 - mean_absolute_error: 0.1264 - val_loss: 0.1380 - val_mean_absolute_error: 0.2207\n",
      "Epoch 235/300\n",
      "203/203 [==============================] - 0s 2ms/step - loss: 0.0296 - mean_absolute_error: 0.1270 - val_loss: 0.1547 - val_mean_absolute_error: 0.2247\n",
      "Epoch 236/300\n",
      "203/203 [==============================] - 0s 2ms/step - loss: 0.0273 - mean_absolute_error: 0.1235 - val_loss: 0.1415 - val_mean_absolute_error: 0.2207\n",
      "Epoch 237/300\n",
      "203/203 [==============================] - 0s 1ms/step - loss: 0.0263 - mean_absolute_error: 0.1214 - val_loss: 0.1496 - val_mean_absolute_error: 0.2223\n",
      "Epoch 238/300\n",
      "203/203 [==============================] - 0s 2ms/step - loss: 0.0267 - mean_absolute_error: 0.1216 - val_loss: 0.1443 - val_mean_absolute_error: 0.2216\n",
      "Epoch 239/300\n",
      "203/203 [==============================] - 0s 2ms/step - loss: 0.0284 - mean_absolute_error: 0.1248 - val_loss: 0.1447 - val_mean_absolute_error: 0.2201\n",
      "Epoch 240/300\n",
      "203/203 [==============================] - 0s 2ms/step - loss: 0.0284 - mean_absolute_error: 0.1239 - val_loss: 0.1497 - val_mean_absolute_error: 0.2229\n",
      "Epoch 241/300\n"
     ]
    },
    {
     "name": "stdout",
     "output_type": "stream",
     "text": [
      "203/203 [==============================] - 0s 2ms/step - loss: 0.0285 - mean_absolute_error: 0.1239 - val_loss: 0.1389 - val_mean_absolute_error: 0.2183\n",
      "Epoch 242/300\n",
      "203/203 [==============================] - 0s 2ms/step - loss: 0.0274 - mean_absolute_error: 0.1234 - val_loss: 0.1472 - val_mean_absolute_error: 0.2226\n",
      "Epoch 243/300\n",
      "203/203 [==============================] - 0s 2ms/step - loss: 0.0266 - mean_absolute_error: 0.1218 - val_loss: 0.1412 - val_mean_absolute_error: 0.2207\n",
      "Epoch 244/300\n",
      "203/203 [==============================] - 0s 2ms/step - loss: 0.0263 - mean_absolute_error: 0.1216 - val_loss: 0.1448 - val_mean_absolute_error: 0.2248\n",
      "Epoch 245/300\n",
      "203/203 [==============================] - 0s 2ms/step - loss: 0.0261 - mean_absolute_error: 0.1210 - val_loss: 0.1385 - val_mean_absolute_error: 0.2219\n",
      "Epoch 246/300\n",
      "203/203 [==============================] - 0s 2ms/step - loss: 0.0271 - mean_absolute_error: 0.1232 - val_loss: 0.1461 - val_mean_absolute_error: 0.2275\n",
      "Epoch 247/300\n",
      "203/203 [==============================] - 0s 2ms/step - loss: 0.0288 - mean_absolute_error: 0.1259 - val_loss: 0.1378 - val_mean_absolute_error: 0.2186\n",
      "Epoch 248/300\n",
      "203/203 [==============================] - 0s 2ms/step - loss: 0.0285 - mean_absolute_error: 0.1242 - val_loss: 0.1456 - val_mean_absolute_error: 0.2238\n",
      "Epoch 249/300\n",
      "203/203 [==============================] - 0s 2ms/step - loss: 0.0299 - mean_absolute_error: 0.1261 - val_loss: 0.1510 - val_mean_absolute_error: 0.2212\n",
      "Epoch 250/300\n",
      "203/203 [==============================] - 0s 1ms/step - loss: 0.0277 - mean_absolute_error: 0.1229 - val_loss: 0.1391 - val_mean_absolute_error: 0.2229\n",
      "Epoch 251/300\n",
      "203/203 [==============================] - 0s 2ms/step - loss: 0.0300 - mean_absolute_error: 0.1267 - val_loss: 0.1427 - val_mean_absolute_error: 0.2188\n",
      "Epoch 252/300\n",
      "203/203 [==============================] - 1s 2ms/step - loss: 0.0278 - mean_absolute_error: 0.1230 - val_loss: 0.1456 - val_mean_absolute_error: 0.2211\n",
      "Epoch 253/300\n",
      "203/203 [==============================] - 0s 1ms/step - loss: 0.0272 - mean_absolute_error: 0.1222 - val_loss: 0.1409 - val_mean_absolute_error: 0.2185\n",
      "Epoch 254/300\n",
      "203/203 [==============================] - 0s 1ms/step - loss: 0.0263 - mean_absolute_error: 0.1212 - val_loss: 0.1378 - val_mean_absolute_error: 0.2204\n",
      "Epoch 255/300\n",
      "203/203 [==============================] - 0s 2ms/step - loss: 0.0274 - mean_absolute_error: 0.1239 - val_loss: 0.1440 - val_mean_absolute_error: 0.2245\n",
      "Epoch 256/300\n",
      "203/203 [==============================] - 0s 2ms/step - loss: 0.0272 - mean_absolute_error: 0.1224 - val_loss: 0.1348 - val_mean_absolute_error: 0.2216\n",
      "Epoch 257/300\n",
      "203/203 [==============================] - 0s 1ms/step - loss: 0.0295 - mean_absolute_error: 0.1270 - val_loss: 0.1408 - val_mean_absolute_error: 0.2204\n",
      "Epoch 258/300\n",
      "203/203 [==============================] - 0s 1ms/step - loss: 0.0263 - mean_absolute_error: 0.1216 - val_loss: 0.1395 - val_mean_absolute_error: 0.2211\n",
      "Epoch 259/300\n",
      "203/203 [==============================] - 0s 2ms/step - loss: 0.0256 - mean_absolute_error: 0.1199 - val_loss: 0.1492 - val_mean_absolute_error: 0.2232\n",
      "Epoch 260/300\n",
      "203/203 [==============================] - 0s 1ms/step - loss: 0.0257 - mean_absolute_error: 0.1205 - val_loss: 0.1435 - val_mean_absolute_error: 0.2213\n",
      "Epoch 261/300\n",
      "203/203 [==============================] - 0s 1ms/step - loss: 0.0269 - mean_absolute_error: 0.1224 - val_loss: 0.1388 - val_mean_absolute_error: 0.2219\n",
      "Epoch 262/300\n",
      "203/203 [==============================] - 0s 1ms/step - loss: 0.0267 - mean_absolute_error: 0.1211 - val_loss: 0.1664 - val_mean_absolute_error: 0.2277\n",
      "Epoch 263/300\n",
      "203/203 [==============================] - 0s 2ms/step - loss: 0.0302 - mean_absolute_error: 0.1268 - val_loss: 0.1428 - val_mean_absolute_error: 0.2196\n",
      "Epoch 264/300\n",
      "203/203 [==============================] - 0s 1ms/step - loss: 0.0257 - mean_absolute_error: 0.1201 - val_loss: 0.1364 - val_mean_absolute_error: 0.2187\n",
      "Epoch 265/300\n",
      "203/203 [==============================] - 0s 1ms/step - loss: 0.0264 - mean_absolute_error: 0.1215 - val_loss: 0.1490 - val_mean_absolute_error: 0.2251\n",
      "Epoch 266/300\n",
      "203/203 [==============================] - 0s 2ms/step - loss: 0.0261 - mean_absolute_error: 0.1202 - val_loss: 0.1316 - val_mean_absolute_error: 0.2213\n",
      "Epoch 267/300\n",
      "203/203 [==============================] - 0s 2ms/step - loss: 0.0293 - mean_absolute_error: 0.1257 - val_loss: 0.1406 - val_mean_absolute_error: 0.2178\n",
      "Epoch 268/300\n",
      "203/203 [==============================] - 0s 2ms/step - loss: 0.0263 - mean_absolute_error: 0.1211 - val_loss: 0.1425 - val_mean_absolute_error: 0.2253\n",
      "Epoch 269/300\n",
      "203/203 [==============================] - 0s 2ms/step - loss: 0.0271 - mean_absolute_error: 0.1234 - val_loss: 0.1462 - val_mean_absolute_error: 0.2237\n",
      "Epoch 270/300\n",
      "203/203 [==============================] - 0s 1ms/step - loss: 0.0263 - mean_absolute_error: 0.1213 - val_loss: 0.1420 - val_mean_absolute_error: 0.2217\n",
      "Epoch 271/300\n",
      "203/203 [==============================] - 0s 2ms/step - loss: 0.0272 - mean_absolute_error: 0.1229 - val_loss: 0.1567 - val_mean_absolute_error: 0.2257\n",
      "Epoch 272/300\n",
      "203/203 [==============================] - 0s 1ms/step - loss: 0.0255 - mean_absolute_error: 0.1195 - val_loss: 0.1385 - val_mean_absolute_error: 0.2194\n",
      "Epoch 273/300\n",
      "203/203 [==============================] - 0s 2ms/step - loss: 0.0249 - mean_absolute_error: 0.1183 - val_loss: 0.1515 - val_mean_absolute_error: 0.2238\n",
      "Epoch 274/300\n",
      "203/203 [==============================] - 0s 2ms/step - loss: 0.0269 - mean_absolute_error: 0.1217 - val_loss: 0.1512 - val_mean_absolute_error: 0.2364\n",
      "Epoch 275/300\n",
      "203/203 [==============================] - 0s 1ms/step - loss: 0.0261 - mean_absolute_error: 0.1203 - val_loss: 0.1462 - val_mean_absolute_error: 0.2211\n",
      "Epoch 276/300\n",
      "203/203 [==============================] - 0s 1ms/step - loss: 0.0252 - mean_absolute_error: 0.1190 - val_loss: 0.1545 - val_mean_absolute_error: 0.2254\n",
      "Epoch 277/300\n",
      "203/203 [==============================] - 1s 3ms/step - loss: 0.0253 - mean_absolute_error: 0.1192 - val_loss: 0.1434 - val_mean_absolute_error: 0.2217\n",
      "Epoch 278/300\n",
      "203/203 [==============================] - 1s 3ms/step - loss: 0.0292 - mean_absolute_error: 0.1268 - val_loss: 0.1445 - val_mean_absolute_error: 0.2246\n",
      "Epoch 279/300\n",
      "203/203 [==============================] - 0s 2ms/step - loss: 0.0268 - mean_absolute_error: 0.1221 - val_loss: 0.1465 - val_mean_absolute_error: 0.2231\n",
      "Epoch 280/300\n",
      "203/203 [==============================] - 0s 2ms/step - loss: 0.0253 - mean_absolute_error: 0.1197 - val_loss: 0.1483 - val_mean_absolute_error: 0.2311\n",
      "Epoch 281/300\n",
      "203/203 [==============================] - 0s 2ms/step - loss: 0.0276 - mean_absolute_error: 0.1235 - val_loss: 0.1497 - val_mean_absolute_error: 0.2263\n",
      "Epoch 282/300\n",
      "203/203 [==============================] - 1s 3ms/step - loss: 0.0259 - mean_absolute_error: 0.1196 - val_loss: 0.1426 - val_mean_absolute_error: 0.2230\n",
      "Epoch 283/300\n",
      "203/203 [==============================] - 0s 2ms/step - loss: 0.0253 - mean_absolute_error: 0.1186 - val_loss: 0.1411 - val_mean_absolute_error: 0.2201\n",
      "Epoch 284/300\n",
      "203/203 [==============================] - 0s 2ms/step - loss: 0.0265 - mean_absolute_error: 0.1209 - val_loss: 0.1546 - val_mean_absolute_error: 0.2258\n",
      "Epoch 285/300\n",
      "203/203 [==============================] - 1s 2ms/step - loss: 0.0275 - mean_absolute_error: 0.1218 - val_loss: 0.1492 - val_mean_absolute_error: 0.2231\n",
      "Epoch 286/300\n",
      "203/203 [==============================] - 1s 3ms/step - loss: 0.0255 - mean_absolute_error: 0.1197 - val_loss: 0.1450 - val_mean_absolute_error: 0.2196\n",
      "Epoch 287/300\n",
      "203/203 [==============================] - 1s 3ms/step - loss: 0.0247 - mean_absolute_error: 0.1177 - val_loss: 0.1521 - val_mean_absolute_error: 0.2282\n",
      "Epoch 288/300\n",
      "203/203 [==============================] - 0s 2ms/step - loss: 0.0253 - mean_absolute_error: 0.1187 - val_loss: 0.1485 - val_mean_absolute_error: 0.2243\n",
      "Epoch 289/300\n",
      "203/203 [==============================] - 1s 3ms/step - loss: 0.0256 - mean_absolute_error: 0.1198 - val_loss: 0.1394 - val_mean_absolute_error: 0.2250\n",
      "Epoch 290/300\n"
     ]
    },
    {
     "name": "stdout",
     "output_type": "stream",
     "text": [
      "203/203 [==============================] - 0s 2ms/step - loss: 0.0271 - mean_absolute_error: 0.1219 - val_loss: 0.1489 - val_mean_absolute_error: 0.2256\n",
      "Epoch 291/300\n",
      "203/203 [==============================] - 0s 1ms/step - loss: 0.0273 - mean_absolute_error: 0.1229 - val_loss: 0.1421 - val_mean_absolute_error: 0.2231\n",
      "Epoch 292/300\n",
      "203/203 [==============================] - 0s 2ms/step - loss: 0.0253 - mean_absolute_error: 0.1190 - val_loss: 0.1397 - val_mean_absolute_error: 0.2214\n",
      "Epoch 293/300\n",
      "203/203 [==============================] - 0s 2ms/step - loss: 0.0247 - mean_absolute_error: 0.1179 - val_loss: 0.1447 - val_mean_absolute_error: 0.2213\n",
      "Epoch 294/300\n",
      "203/203 [==============================] - 0s 1ms/step - loss: 0.0251 - mean_absolute_error: 0.1190 - val_loss: 0.1633 - val_mean_absolute_error: 0.2293\n",
      "Epoch 295/300\n",
      "203/203 [==============================] - 0s 1ms/step - loss: 0.0253 - mean_absolute_error: 0.1198 - val_loss: 0.1439 - val_mean_absolute_error: 0.2232\n",
      "Epoch 296/300\n",
      "203/203 [==============================] - 0s 2ms/step - loss: 0.0251 - mean_absolute_error: 0.1189 - val_loss: 0.1399 - val_mean_absolute_error: 0.2204\n",
      "Epoch 297/300\n",
      "203/203 [==============================] - 0s 2ms/step - loss: 0.0251 - mean_absolute_error: 0.1188 - val_loss: 0.1537 - val_mean_absolute_error: 0.2255\n",
      "Epoch 298/300\n",
      "203/203 [==============================] - 0s 2ms/step - loss: 0.0299 - mean_absolute_error: 0.1262 - val_loss: 0.1443 - val_mean_absolute_error: 0.2226\n",
      "Epoch 299/300\n",
      "203/203 [==============================] - 0s 1ms/step - loss: 0.0272 - mean_absolute_error: 0.1219 - val_loss: 0.1440 - val_mean_absolute_error: 0.2213\n",
      "Epoch 300/300\n",
      "203/203 [==============================] - 0s 1ms/step - loss: 0.0248 - mean_absolute_error: 0.1179 - val_loss: 0.1431 - val_mean_absolute_error: 0.2231\n"
     ]
    }
   ],
   "source": [
    "history=model.fit(x_train,y_train,batch_size=64,epochs=300,validation_data=(x_val,y_val),callbacks=[model_cbk,model_mckp])"
   ]
  },
  {
   "cell_type": "code",
   "execution_count": 59,
   "metadata": {},
   "outputs": [
    {
     "data": {
      "text/plain": [
       "dict_keys(['loss', 'mean_absolute_error', 'val_loss', 'val_mean_absolute_error'])"
      ]
     },
     "execution_count": 59,
     "metadata": {},
     "output_type": "execute_result"
    }
   ],
   "source": [
    "history.history.keys()"
   ]
  },
  {
   "cell_type": "code",
   "execution_count": 60,
   "metadata": {},
   "outputs": [
    {
     "data": {
      "text/plain": [
       "<matplotlib.legend.Legend at 0x1dbb4cd33a0>"
      ]
     },
     "execution_count": 60,
     "metadata": {},
     "output_type": "execute_result"
    },
    {
     "data": {
      "image/png": "[encoded data removed]",
      "text/plain": [
       "<Figure size 432x288 with 1 Axes>"
      ]
     },
     "metadata": {
      "needs_background": "light"
     },
     "output_type": "display_data"
    }
   ],
   "source": [
    "plt.plot(history.history['loss'],label='train')\n",
    "plt.plot(history.history['val_loss'],label='validation')\n",
    "plt.ylabel('loss')\n",
    "plt.xlabel('epochs')\n",
    "plt.legend(loc='upper right')"
   ]
  },
  {
   "cell_type": "code",
   "execution_count": 61,
   "metadata": {},
   "outputs": [
    {
     "data": {
      "text/plain": [
       "<matplotlib.legend.Legend at 0x1dbb4cbd790>"
      ]
     },
     "execution_count": 61,
     "metadata": {},
     "output_type": "execute_result"
    },
    {
     "data": {
      "image/png": "[encoded data removed]",
      "text/plain": [
       "<Figure size 432x288 with 1 Axes>"
      ]
     },
     "metadata": {
      "needs_background": "light"
     },
     "output_type": "display_data"
    }
   ],
   "source": [
    "plt.plot(history.history['mean_absolute_error'],label='train')\n",
    "plt.plot(history.history['val_mean_absolute_error'],label='validation')\n",
    "plt.ylabel('loss')\n",
    "plt.xlabel('epochs')\n",
    "plt.legend(loc='upper right')"
   ]
  },
  {
   "cell_type": "code",
   "execution_count": 62,
   "metadata": {},
   "outputs": [],
   "source": [
    "model.load_weights('lab2-logs/models/Best-model-1.h5')"
   ]
  },
  {
   "cell_type": "code",
   "execution_count": 63,
   "metadata": {},
   "outputs": [],
   "source": [
    "y_test=np.array(test_data['price'])"
   ]
  },
  {
   "cell_type": "code",
   "execution_count": 64,
   "metadata": {},
   "outputs": [
    {
     "data": {
      "text/plain": [
       "array([660000., 450000., 599950., ..., 325000., 400000., 186000.])"
      ]
     },
     "execution_count": 64,
     "metadata": {},
     "output_type": "execute_result"
    }
   ],
   "source": [
    "y_test"
   ]
  },
  {
   "cell_type": "code",
   "execution_count": 65,
   "metadata": {},
   "outputs": [],
   "source": [
    "test_data=(test_data-mean)/std"
   ]
  },
  {
   "cell_type": "code",
   "execution_count": 66,
   "metadata": {},
   "outputs": [],
   "source": [
    "#y_test=np.array(test_data['price'])"
   ]
  },
  {
   "cell_type": "code",
   "execution_count": 67,
   "metadata": {},
   "outputs": [],
   "source": [
    "#y_test"
   ]
  },
  {
   "cell_type": "code",
   "execution_count": 68,
   "metadata": {},
   "outputs": [],
   "source": [
    "x_test=np.array(test_data.drop('price',axis='columns'))"
   ]
  },
  {
   "cell_type": "code",
   "execution_count": 69,
   "metadata": {},
   "outputs": [],
   "source": [
    "y_pred=model.predict(x_test)"
   ]
  },
  {
   "cell_type": "code",
   "execution_count": 70,
   "metadata": {},
   "outputs": [
    {
     "data": {
      "text/plain": [
       "array([[ 0.21232323],\n",
       "       [ 0.17323188],\n",
       "       [-0.09894173],\n",
       "       ...,\n",
       "       [-0.64640576],\n",
       "       [-0.5788326 ],\n",
       "       [-1.0032144 ]], dtype=float32)"
      ]
     },
     "execution_count": 70,
     "metadata": {},
     "output_type": "execute_result"
    }
   ],
   "source": [
    "y_pred"
   ]
  },
  {
   "cell_type": "code",
   "execution_count": 71,
   "metadata": {},
   "outputs": [],
   "source": [
    "y_pred=np.reshape(y_pred*std['price']+mean['price'],y_test.shape)"
   ]
  },
  {
   "cell_type": "code",
   "execution_count": 72,
   "metadata": {},
   "outputs": [],
   "source": [
    "percentage_error=np.mean(np.abs(y_test-y_pred))/np.mean(y_test) * 100"
   ]
  },
  {
   "cell_type": "code",
   "execution_count": 73,
   "metadata": {},
   "outputs": [
    {
     "name": "stdout",
     "output_type": "stream",
     "text": [
      "Model_1 Percentage Error:14.14%\n"
     ]
    }
   ],
   "source": [
    "print(\"Model_1 Percentage Error:{:.2f}%\".format(percentage_error))"
   ]
  }
 ],
 "metadata": {
  "kernelspec": {
   "display_name": "tf2-gpu",
   "language": "python",
   "name": "tf2-gpu"
  },
  "language_info": {
   "codemirror_mode": {
    "name": "ipython",
    "version": 3
   },
   "file_extension": ".py",
   "mimetype": "text/x-python",
   "name": "python",
   "nbconvert_exporter": "python",
   "pygments_lexer": "ipython3",
   "version": "3.8.5"
  }
 },
 "nbformat": 4,
 "nbformat_minor": 4
}
